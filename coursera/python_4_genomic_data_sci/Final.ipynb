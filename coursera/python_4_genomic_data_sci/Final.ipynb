{
 "cells": [
  {
   "cell_type": "code",
   "execution_count": 11,
   "metadata": {},
   "outputs": [
    {
     "name": "stdout",
     "output_type": "stream",
     "text": [
      "ID: gi|142022655|gb|EQ086233.1|346\n",
      "Name: gi|142022655|gb|EQ086233.1|346\n",
      "Description: gi|142022655|gb|EQ086233.1|346 marine metagenome JCVI_SCAF_1096627390048 genomic scaffold, whole genome shotgun sequence\n",
      "Number of features: 0\n",
      "Seq('GCGGTCCCGGCGCCGCAGGCCGTCCGGCTCCTGCAGCGCGCCGAACCGGGTCTC...GCC', SingleLetterAlphabet())\n"
     ]
    }
   ],
   "source": [
    "from workbook_final import *\n",
    "from Bio import SeqIO\n",
    "from Bio.Seq import Seq\n",
    "from Bio.Alphabet import generic_dna\n",
    "\n",
    "get_info('dna2.fasta')"
   ]
  },
  {
   "cell_type": "code",
   "execution_count": 12,
   "metadata": {},
   "outputs": [
    {
     "name": "stdout",
     "output_type": "stream",
     "text": [
      "18\n"
     ]
    }
   ],
   "source": [
    "#### How many records are in the file? ####\n",
    "seqs_dict = dict_seqs(seqs)\n",
    "print(len(seqs_dict))\n",
    "#print(seqs_dict)"
   ]
  },
  {
   "cell_type": "code",
   "execution_count": 14,
   "metadata": {},
   "outputs": [
    {
     "name": "stdout",
     "output_type": "stream",
     "text": [
      "gi|142022655|gb|EQ086233.1|91 Length:  4635\n",
      "gi|142022655|gb|EQ086233.1|304 Length:  1151\n",
      "gi|142022655|gb|EQ086233.1|255 Length:  4894\n",
      "gi|142022655|gb|EQ086233.1|45 Length:  3511\n",
      "gi|142022655|gb|EQ086233.1|396 Length:  4076\n",
      "gi|142022655|gb|EQ086233.1|250 Length:  2867\n",
      "gi|142022655|gb|EQ086233.1|322 Length:  442\n",
      "gi|142022655|gb|EQ086233.1|88 Length:  890\n",
      "gi|142022655|gb|EQ086233.1|594 Length:  967\n",
      "gi|142022655|gb|EQ086233.1|293 Length:  4338\n",
      "gi|142022655|gb|EQ086233.1|75 Length:  1352\n",
      "gi|142022655|gb|EQ086233.1|454 Length:  4564\n",
      "gi|142022655|gb|EQ086233.1|16 Length:  4804\n",
      "gi|142022655|gb|EQ086233.1|584 Length:  964\n",
      "gi|142022655|gb|EQ086233.1|4 Length:  2095\n",
      "gi|142022655|gb|EQ086233.1|277 Length:  1432\n",
      "gi|142022655|gb|EQ086233.1|346 Length:  115\n",
      "gi|142022655|gb|EQ086233.1|527 Length:  2646\n"
     ]
    }
   ],
   "source": [
    "#### What are the lengths of the sequences in the file? ####\n",
    "for key,value in seqs_dict.items():\n",
    "    #print(value)\n",
    "    print(key, \"Length: \", len(seqs_dict[key]))"
   ]
  },
  {
   "cell_type": "code",
   "execution_count": 15,
   "metadata": {},
   "outputs": [
    {
     "data": {
      "text/plain": [
       "('Shortest: ', 115, 'Longest: ', 4894)"
      ]
     },
     "execution_count": 15,
     "metadata": {},
     "output_type": "execute_result"
    }
   ],
   "source": [
    "#### What is the longest sequence and what is the shortest sequence? ####\n",
    "seqlist = sort_seqlens(seqs_dict)\n",
    "#print(seqlist)\n",
    "len_minmax(seqlist)"
   ]
  },
  {
   "cell_type": "code",
   "execution_count": 5,
   "metadata": {},
   "outputs": [
    {
     "name": "stdout",
     "output_type": "stream",
     "text": [
      "None\n",
      "None\n",
      "None\n",
      "None\n",
      "None\n",
      "None\n",
      "None\n",
      "None\n",
      "None\n",
      "None\n",
      "None\n",
      "None\n",
      "None\n",
      "None\n",
      "None\n",
      "None\n",
      "None\n",
      "None\n"
     ]
    }
   ],
   "source": [
    "#### Is there more than one longest or shortest sequence? What are their identifiers? ####\n",
    "seq_dups(seqlist)"
   ]
  },
  {
   "cell_type": "code",
   "execution_count": 13,
   "metadata": {},
   "outputs": [
    {
     "name": "stdout",
     "output_type": "stream",
     "text": [
      "('gi|142022655|gb|EQ086233.1|91', '1_F', 1399)\n",
      "('gi|142022655|gb|EQ086233.1|91', '1_F', 1399)\n",
      "('gi|142022655|gb|EQ086233.1|91', '1_F', 1399)\n",
      "('gi|142022655|gb|EQ086233.1|91', '1_F', 1399)\n",
      "('gi|142022655|gb|EQ086233.1|91', '1_F', 1399)\n",
      "('gi|142022655|gb|EQ086233.1|91', '1_F', 1399)\n",
      "('gi|142022655|gb|EQ086233.1|91', '1_F', 1399)\n",
      "('gi|142022655|gb|EQ086233.1|91', '1_F', 1399)\n",
      "('gi|142022655|gb|EQ086233.1|91', '1_F', 1399)\n",
      "('gi|142022655|gb|EQ086233.1|91', '1_F', 1399)\n",
      "('gi|142022655|gb|EQ086233.1|91', '1_F', 1399)\n",
      "('gi|142022655|gb|EQ086233.1|91', '1_F', 1399)\n",
      "('gi|142022655|gb|EQ086233.1|91', '1_F', 1399)\n",
      "('gi|142022655|gb|EQ086233.1|91', '1_F', 1399)\n",
      "('gi|142022655|gb|EQ086233.1|91', '1_R', 976)\n",
      "('gi|142022655|gb|EQ086233.1|91', '1_R', 976)\n",
      "('gi|142022655|gb|EQ086233.1|91', '1_R', 976)\n",
      "('gi|142022655|gb|EQ086233.1|91', '1_R', 976)\n",
      "('gi|142022655|gb|EQ086233.1|91', '1_R', 976)\n",
      "('gi|142022655|gb|EQ086233.1|91', '1_R', 976)\n",
      "('gi|142022655|gb|EQ086233.1|91', '1_R', 976)\n",
      "('gi|142022655|gb|EQ086233.1|91', '1_R', 976)\n",
      "('gi|142022655|gb|EQ086233.1|91', '1_R', 976)\n",
      "('gi|142022655|gb|EQ086233.1|91', '1_R', 976)\n",
      "('gi|142022655|gb|EQ086233.1|91', '1_R', 976)\n",
      "('gi|142022655|gb|EQ086233.1|91', '1_R', 976)\n",
      "('gi|142022655|gb|EQ086233.1|91', '1_R', 976)\n",
      "('gi|142022655|gb|EQ086233.1|91', '1_R', 976)\n",
      "('gi|142022655|gb|EQ086233.1|91', '1_R', 976)\n",
      "('gi|142022655|gb|EQ086233.1|91', '1_R', 976)\n",
      "('gi|142022655|gb|EQ086233.1|91', '1_R', 976)\n",
      "('gi|142022655|gb|EQ086233.1|91', '1_R', 976)\n",
      "('gi|142022655|gb|EQ086233.1|91', '1_R', 976)\n",
      "('gi|142022655|gb|EQ086233.1|91', '1_R', 976)\n",
      "('gi|142022655|gb|EQ086233.1|91', '1_R', 976)\n",
      "('gi|142022655|gb|EQ086233.1|91', '1_R', 976)\n",
      "('gi|142022655|gb|EQ086233.1|91', '2_F', 940)\n",
      "('gi|142022655|gb|EQ086233.1|91', '2_F', 940)\n",
      "('gi|142022655|gb|EQ086233.1|91', '2_F', 940)\n",
      "('gi|142022655|gb|EQ086233.1|91', '2_F', 940)\n",
      "('gi|142022655|gb|EQ086233.1|91', '2_F', 940)\n",
      "('gi|142022655|gb|EQ086233.1|91', '2_F', 940)\n",
      "('gi|142022655|gb|EQ086233.1|91', '2_F', 940)\n",
      "('gi|142022655|gb|EQ086233.1|91', '2_F', 940)\n",
      "('gi|142022655|gb|EQ086233.1|91', '2_F', 940)\n",
      "('gi|142022655|gb|EQ086233.1|91', '2_F', 940)\n",
      "('gi|142022655|gb|EQ086233.1|91', '2_F', 940)\n",
      "('gi|142022655|gb|EQ086233.1|91', '2_F', 940)\n",
      "('gi|142022655|gb|EQ086233.1|91', '2_F', 940)\n",
      "('gi|142022655|gb|EQ086233.1|91', '2_F', 940)\n",
      "('gi|142022655|gb|EQ086233.1|91', '2_F', 940)\n",
      "('gi|142022655|gb|EQ086233.1|91', '2_F', 940)\n",
      "('gi|142022655|gb|EQ086233.1|91', '2_F', 940)\n",
      "('gi|142022655|gb|EQ086233.1|91', '2_F', 940)\n",
      "('gi|142022655|gb|EQ086233.1|91', '2_F', 940)\n",
      "('gi|142022655|gb|EQ086233.1|91', '2_F', 940)\n",
      "('gi|142022655|gb|EQ086233.1|91', '2_F', 940)\n",
      "('gi|142022655|gb|EQ086233.1|91', '2_F', 940)\n",
      "('gi|142022655|gb|EQ086233.1|91', '2_F', 940)\n",
      "('gi|142022655|gb|EQ086233.1|91', '2_F', 940)\n",
      "('gi|142022655|gb|EQ086233.1|91', '2_R', 1503)\n",
      "('gi|142022655|gb|EQ086233.1|91', '2_R', 1503)\n",
      "('gi|142022655|gb|EQ086233.1|91', '2_R', 1503)\n",
      "('gi|142022655|gb|EQ086233.1|91', '2_R', 1503)\n",
      "('gi|142022655|gb|EQ086233.1|91', '2_R', 1503)\n",
      "('gi|142022655|gb|EQ086233.1|91', '2_R', 1503)\n",
      "('gi|142022655|gb|EQ086233.1|91', '2_R', 1503)\n",
      "('gi|142022655|gb|EQ086233.1|91', '2_R', 1503)\n",
      "('gi|142022655|gb|EQ086233.1|91', '2_R', 1503)\n",
      "('gi|142022655|gb|EQ086233.1|91', '2_R', 1503)\n",
      "('gi|142022655|gb|EQ086233.1|91', '2_R', 1503)\n",
      "('gi|142022655|gb|EQ086233.1|91', '3_F', 1226)\n",
      "('gi|142022655|gb|EQ086233.1|91', '3_F', 1226)\n",
      "('gi|142022655|gb|EQ086233.1|91', '3_F', 1226)\n",
      "('gi|142022655|gb|EQ086233.1|91', '3_F', 1226)\n",
      "('gi|142022655|gb|EQ086233.1|91', '3_F', 1226)\n",
      "('gi|142022655|gb|EQ086233.1|91', '3_F', 1226)\n",
      "('gi|142022655|gb|EQ086233.1|91', '3_F', 1226)\n",
      "('gi|142022655|gb|EQ086233.1|91', '3_F', 1226)\n",
      "('gi|142022655|gb|EQ086233.1|91', '3_F', 1226)\n",
      "('gi|142022655|gb|EQ086233.1|91', '3_F', 1226)\n",
      "('gi|142022655|gb|EQ086233.1|91', '3_F', 1226)\n",
      "('gi|142022655|gb|EQ086233.1|91', '3_F', 1226)\n",
      "('gi|142022655|gb|EQ086233.1|91', '3_F', 1226)\n",
      "('gi|142022655|gb|EQ086233.1|91', '3_F', 1226)\n",
      "('gi|142022655|gb|EQ086233.1|91', '3_F', 1226)\n",
      "('gi|142022655|gb|EQ086233.1|91', '3_F', 1226)\n",
      "('gi|142022655|gb|EQ086233.1|91', '3_F', 1226)\n",
      "('gi|142022655|gb|EQ086233.1|91', '3_R', 1416)\n",
      "('gi|142022655|gb|EQ086233.1|91', '3_R', 1416)\n",
      "('gi|142022655|gb|EQ086233.1|91', '3_R', 1416)\n",
      "('gi|142022655|gb|EQ086233.1|91', '3_R', 1416)\n",
      "('gi|142022655|gb|EQ086233.1|91', '3_R', 1416)\n",
      "('gi|142022655|gb|EQ086233.1|91', '3_R', 1416)\n",
      "('gi|142022655|gb|EQ086233.1|91', '3_R', 1416)\n",
      "('gi|142022655|gb|EQ086233.1|91', '3_R', 1416)\n",
      "('gi|142022655|gb|EQ086233.1|91', '3_R', 1416)\n",
      "('gi|142022655|gb|EQ086233.1|91', '3_R', 1416)\n",
      "('gi|142022655|gb|EQ086233.1|91', '3_R', 1416)\n",
      "('gi|142022655|gb|EQ086233.1|91', '3_R', 1416)\n",
      "('gi|142022655|gb|EQ086233.1|91', '3_R', 1416)\n",
      "('gi|142022655|gb|EQ086233.1|91', '3_R', 1416)\n",
      "('gi|142022655|gb|EQ086233.1|304', '1_F', 163)\n",
      "('gi|142022655|gb|EQ086233.1|304', '1_F', 163)\n"
     ]
    },
    {
     "ename": "IndexError",
     "evalue": "list index out of range",
     "output_type": "error",
     "traceback": [
      "\u001b[0;31m---------------------------------------------------------------------------\u001b[0m",
      "\u001b[0;31mIndexError\u001b[0m                                Traceback (most recent call last)",
      "\u001b[0;32m<ipython-input-13-4d39357c06f9>\u001b[0m in \u001b[0;36m<module>\u001b[0;34m\u001b[0m\n\u001b[1;32m      3\u001b[0m \u001b[0;34m\u001b[0m\u001b[0m\n\u001b[1;32m      4\u001b[0m \u001b[0mframes\u001b[0m \u001b[0;34m=\u001b[0m \u001b[0mframe_dict\u001b[0m\u001b[0;34m(\u001b[0m\u001b[0mseqs_dict\u001b[0m\u001b[0;34m)\u001b[0m\u001b[0;34m\u001b[0m\u001b[0m\n\u001b[0;32m----> 5\u001b[0;31m \u001b[0morfs\u001b[0m\u001b[0;34m(\u001b[0m\u001b[0mframes\u001b[0m\u001b[0;34m)\u001b[0m\u001b[0;34m\u001b[0m\u001b[0m\n\u001b[0m\u001b[1;32m      6\u001b[0m \u001b[0;31m#sorted_orfs(seqs)\u001b[0m\u001b[0;34m\u001b[0m\u001b[0;34m\u001b[0m\u001b[0m\n\u001b[1;32m      7\u001b[0m \u001b[0;34m\u001b[0m\u001b[0m\n",
      "\u001b[0;32m~/Documents/3_coursera/python_4_genomic_data_sci/workbook_final.py\u001b[0m in \u001b[0;36morfs\u001b[0;34m(frames_dict)\u001b[0m\n\u001b[1;32m    241\u001b[0m                 \u001b[0;31m#print(orf_dict)\u001b[0m\u001b[0;34m\u001b[0m\u001b[0;34m\u001b[0m\u001b[0m\n\u001b[1;32m    242\u001b[0m                 \u001b[0ms_orf_lengths\u001b[0m \u001b[0;34m=\u001b[0m \u001b[0msorted\u001b[0m\u001b[0;34m(\u001b[0m\u001b[0morf_lens\u001b[0m\u001b[0;34m,\u001b[0m \u001b[0mkey\u001b[0m \u001b[0;34m=\u001b[0m \u001b[0;32mlambda\u001b[0m \u001b[0mtup\u001b[0m \u001b[0;34m:\u001b[0m \u001b[0mtup\u001b[0m\u001b[0;34m[\u001b[0m\u001b[0;36m2\u001b[0m\u001b[0;34m]\u001b[0m\u001b[0;34m)\u001b[0m\u001b[0;34m\u001b[0m\u001b[0m\n\u001b[0;32m--> 243\u001b[0;31m                 \u001b[0mprint\u001b[0m\u001b[0;34m(\u001b[0m\u001b[0ms_orf_lengths\u001b[0m\u001b[0;34m)\u001b[0m\u001b[0;34m\u001b[0m\u001b[0m\n\u001b[0m\u001b[1;32m    244\u001b[0m \u001b[0;34m\u001b[0m\u001b[0m\n\u001b[1;32m    245\u001b[0m \u001b[0;34m\u001b[0m\u001b[0m\n",
      "\u001b[0;31mIndexError\u001b[0m: list index out of range"
     ]
    }
   ],
   "source": [
    "#### What is the length of the longest ORF in the file? ####\n",
    "#### What is the identifier of the sequence containing the longest ORF? ####\n",
    "\n",
    "frames = frame_dict(seqs_dict)\n",
    "orfs(frames)\n",
    "#sorted_orfs(seqs)\n",
    "\n",
    "#print(sorted(orf_len_by_frame(seqs))[-1])\n",
    "\n",
    "longestorfs_list = []\n",
    "\n",
    "for k,v in l.items():\n",
    "    #print(k,v)\n",
    "    if not v:\n",
    "        pass\n",
    "    else:\n",
    "        tup = (k,v[-1])\n",
    "        longestorfs_list.append(tup)\n",
    "        continue\n",
    "\n",
    "sorted_list = sorted(longestorfs_list, key = lambda tup : tup[1])\n",
    "print(sorted_list[-1])'''"
   ]
  },
  {
   "cell_type": "code",
   "execution_count": null,
   "metadata": {},
   "outputs": [],
   "source": [
    "## What is the length of the longest ORF appearing in reading frame 2 of any of the sequences?"
   ]
  },
  {
   "cell_type": "code",
   "execution_count": null,
   "metadata": {},
   "outputs": [],
   "source": [
    "## What is the starting position of the longest ORF in reading frame 3 in any of the sequences? The position should indicate the character number where the ORF begins. For instance, the following ORF:\n",
    "    '''> sequence1\n",
    "\n",
    "    ATGCCCTAG\n",
    "\n",
    "    starts at position 1.\n",
    "\n",
    "    1 point'''"
   ]
  },
  {
   "cell_type": "code",
   "execution_count": null,
   "metadata": {},
   "outputs": [],
   "source": [
    "## What is the length of the longest ORF appearing in any sequence and in any forward reading frame?"
   ]
  },
  {
   "cell_type": "code",
   "execution_count": null,
   "metadata": {},
   "outputs": [],
   "source": [
    "## What is the length of the longest forward ORF that appears in the sequence with the identifier gi|142022655|gb|EQ086233.1|16?"
   ]
  },
  {
   "cell_type": "code",
   "execution_count": null,
   "metadata": {},
   "outputs": [],
   "source": [
    "## Find the most frequently occurring repeat of length 6 in all sequences. How many times does it occur in all?"
   ]
  },
  {
   "cell_type": "code",
   "execution_count": null,
   "metadata": {},
   "outputs": [],
   "source": [
    "## Find all repeats of length 12 in the input file. Let's use Max to specify the number of copies of the most frequent repeat of length 12. How many different 12-base sequences occur Max times?\n"
   ]
  },
  {
   "cell_type": "code",
   "execution_count": null,
   "metadata": {},
   "outputs": [],
   "source": [
    "## Which one of the following repeats of length 7 has a maximum number of occurrences?"
   ]
  }
 ],
 "metadata": {
  "kernelspec": {
   "display_name": "Python 3",
   "language": "python",
   "name": "python3"
  },
  "language_info": {
   "codemirror_mode": {
    "name": "ipython",
    "version": 3
   },
   "file_extension": ".py",
   "mimetype": "text/x-python",
   "name": "python",
   "nbconvert_exporter": "python",
   "pygments_lexer": "ipython3",
   "version": "3.7.0"
  }
 },
 "nbformat": 4,
 "nbformat_minor": 4
}
