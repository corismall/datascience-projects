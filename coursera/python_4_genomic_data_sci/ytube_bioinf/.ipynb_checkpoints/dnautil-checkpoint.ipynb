{
 "cells": [
  {
   "cell_type": "code",
   "execution_count": null,
   "metadata": {},
   "outputs": [],
   "source": [
    "#dnautil contains useful functions for dna sequence manipulation/stats"
   ]
  },
  {
   "cell_type": "code",
   "execution_count": null,
   "metadata": {},
   "outputs": [],
   "source": [
    "# Lecture 5.1 - functions\n",
    "\n",
    "#computing GC content\n",
    "\n",
    "def gc(seq):   # function counts gc content of dna string\n",
    "    n_count = float(seq.count(\"n\") + seq.count(\"N\"))\n",
    "    gc_total = float(seq.count(\"c\") + seq.count(\"g\"))\n",
    "    gc_percent = (gc_total / (len(seq) - n_count)) * 100\n",
    "    return gc_percent"
   ]
  },
  {
   "cell_type": "code",
   "execution_count": null,
   "metadata": {},
   "outputs": [],
   "source": [
    "#Lecture 5.2 - functions\n",
    "\n",
    "#checking for stop codons\n",
    "#addition: would like to identify which frame the stop codon is in\n",
    "\n",
    "def stop_codon(seq):  # this function checks for codons in every frame\n",
    "    frame = 1 \n",
    "    stop_codon_found = False\n",
    "    stop_codons = [\"tga\",\"tag\",\"taa\"]\n",
    "    print(len(seq))\n",
    "    for i in range(0,len(seq),3):  #default frame 1\n",
    "        codon = seq[i:i+3].lower()\n",
    "        if codon in stop_codons:\n",
    "            stop_codon_found = True\n",
    "            break\n",
    "    for i in range(1,len(seq),3):  #default frame 0\n",
    "        codon = seq[i:i+3].lower()\n",
    "        frame = 2\n",
    "        if codon in stop_codons:\n",
    "            stop_codon_found = True\n",
    "            break\n",
    "    for i in range(2,len(seq),3):  #default frame 0\n",
    "        codon = seq[i:i+3].lower()\n",
    "        frame = 3\n",
    "        if codon in stop_codons:\n",
    "            stop_codon_found = True\n",
    "            break\n",
    "    return stop_codon_found, frame"
   ]
  },
  {
   "cell_type": "code",
   "execution_count": null,
   "metadata": {},
   "outputs": [],
   "source": [
    "#Lecture 5.3 - functions\n",
    "#reverse complement; reversing a string, combining functions \n",
    "#my code first\n",
    "\n",
    "def rev(dna):\n",
    "    seq_rev = dna[::-1]\n",
    "    return seq_rev\n",
    "\n",
    "def complement(dna):  #use dictionary for complementation partners simplified (only lowercase)\n",
    "    base_comp = {'a':'t','t':'a','c':'g','g':'c','n':'n'}\n",
    "    complement_seq = ''\n",
    "    for n in dna:\n",
    "        for key,value in base_comp.items():\n",
    "            if n == key:\n",
    "                complement_seq += value\n",
    "    return complement_seq\n",
    "\n",
    "def rev_complement(dna):\n",
    "    seq = rev(dna)\n",
    "    seq = complement(seq)\n",
    "    return seq\n",
    "    "
   ]
  },
  {
   "cell_type": "code",
   "execution_count": 4,
   "metadata": {},
   "outputs": [
    {
     "data": {
      "text/plain": [
       "'ctatctagt'"
      ]
     },
     "execution_count": 4,
     "metadata": {},
     "output_type": "execute_result"
    }
   ],
   "source": [
    "#profs code EXAMPLE OF LIST COMPREHENSION\n",
    "\n",
    "def rev_complement_lc(dna):\n",
    "    letters = list(dna)\n",
    "    base_comp = {'a':'t','t':'a','c':'g','g':'c','n':'n'}\n",
    "    c_letters = [base_comp[base] for base in letters]  #list comp\n",
    "    rev_c = ''\n",
    "    return rev_c.join(c_letters[::-1])"
   ]
  },
  {
   "cell_type": "code",
   "execution_count": null,
   "metadata": {},
   "outputs": [],
   "source": [
    "### function for reading in fasta file and parsing the sequences to a dictionary\n",
    "\n",
    "def fasta_dict(file, name):\n",
    "    try:  #try opening file\n",
    "        f = open(file)\n",
    "    except IOError:  #catch any exceptions\n",
    "        print(\"File\" + file + \"doesn't exist...\")\n",
    "        \n",
    "#first creating dictionary and adding each name as keys and \n",
    "    seqs = {}\n",
    "    for line in f:\n",
    "        line = line.rtrip('\\n')  #method rstrip([char]) returns a copy of the string with trailing characters removed.\n",
    "        if line[0] == '>':  # or line.startswith('>')\n",
    "            words = line.split()\n",
    "            name = words[0][1:]\n",
    "            seqs[names] = ''\n",
    "        else: # appending sequence line by line until next header\n",
    "            seqs[name] = seqs[name] + line\n",
    "            \n",
    "    "
   ]
  }
 ],
 "metadata": {
  "kernelspec": {
   "display_name": "Python 3",
   "language": "python",
   "name": "python3"
  },
  "language_info": {
   "codemirror_mode": {
    "name": "ipython",
    "version": 3
   },
   "file_extension": ".py",
   "mimetype": "text/x-python",
   "name": "python",
   "nbconvert_exporter": "python",
   "pygments_lexer": "ipython3",
   "version": "3.7.0"
  }
 },
 "nbformat": 4,
 "nbformat_minor": 4
}
