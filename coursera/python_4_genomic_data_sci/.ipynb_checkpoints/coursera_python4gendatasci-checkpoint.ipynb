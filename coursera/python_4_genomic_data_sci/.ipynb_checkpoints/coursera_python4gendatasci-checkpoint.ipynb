{
 "cells": [
  {
   "cell_type": "code",
   "execution_count": 37,
   "metadata": {},
   "outputs": [
    {
     "name": "stdout",
     "output_type": "stream",
     "text": [
      "1\n",
      "{'A': 3, 'C': 4, 'G': 2, 'T': 4}\n",
      "[2, 3, 4, 4]\n"
     ]
    }
   ],
   "source": [
    "dna = \"ACTGTTTAAGCCC\"\n",
    "print(dna.count(\"AC\"))\n",
    "dna_dict = {'A':dna.count('A'), 'C':dna.count('C'), 'G':dna.count('G'), 'T':dna.count('T')}\n",
    "print(dna_dict)\n",
    "s_dict = sorted(dna_dict.values())\n",
    "print(s_dict)"
   ]
  },
  {
   "cell_type": "code",
   "execution_count": 16,
   "metadata": {},
   "outputs": [
    {
     "data": {
      "text/plain": [
       "True"
      ]
     },
     "execution_count": 16,
     "metadata": {},
     "output_type": "execute_result"
    }
   ],
   "source": [
    "dna_l = ['A','C','G','T']\n",
    "dna_n = dna_l[:]\n",
    "dna_n == dna_l\n",
    "dna_n is dna_l\n",
    "\n",
    "dna1 = dna[:]\n",
    "dna1 == dna\n",
    "dna1 is dna"
   ]
  },
  {
   "cell_type": "code",
   "execution_count": 1,
   "metadata": {},
   "outputs": [
    {
     "name": "stdin",
     "output_type": "stream",
     "text": [
      "Enter seq: acacacgtactgcgggaagtatgcacgtagat\n"
     ]
    },
    {
     "name": "stdout",
     "output_type": "stream",
     "text": [
      "Donor splice site at position 6\n",
      "Donor splice site at position 18\n",
      "Donor splice site at position 26\n"
     ]
    }
   ],
   "source": [
    "#lecture 4.2 part 2 ifs and loops\n",
    "#problem: given a DNA seq find the position of all canonical donor splice site candidates\n",
    "#donor splice sites always start with 'gt'\n",
    "\n",
    "dna = input('Enter seq:')\n",
    "pos = dna.find('gt',0) #.find() if not able to find subsequence returns -1\n",
    "\n",
    "while pos > -1:\n",
    "    print('Donor splice site at position %d' % pos)\n",
    "    pos = dna.find('gt', pos + 1)\n",
    "\n"
   ]
  },
  {
   "cell_type": "code",
   "execution_count": 5,
   "metadata": {},
   "outputs": [
    {
     "name": "stdin",
     "output_type": "stream",
     "text": [
      "Protein seq please: lakdjfaeoiajsdlkg\n"
     ]
    },
    {
     "name": "stdout",
     "output_type": "stream",
     "text": [
      "Protein contains invalid aa j at position 4\n",
      "Protein contains invalid aa o at position 8\n",
      "Protein contains invalid aa j at position 11\n"
     ]
    }
   ],
   "source": [
    "#range() problem: find if all characters in a given protein seq are valid amino acids\n",
    "\n",
    "'''pseudocode: for each char in aa seq:\n",
    "                    if char is not aa:\n",
    "                        print invalid char and its position in protein seq'''\n",
    "\n",
    "#my code\n",
    "\n",
    "aa = ['a','r','n','d','c','e','q','g','h','i','l','k','m','f','p','s','t','w','y','v']\n",
    "seq = input('Protein seq please:')\n",
    "\n",
    "for a, index in enumerate(seq):\n",
    "    if seq[a] not in aa:\n",
    "        print('Protein contains invalid aa %s at position %d' % (index,a)) # the last variable comes first in variable list"
   ]
  },
  {
   "cell_type": "code",
   "execution_count": 7,
   "metadata": {},
   "outputs": [
    {
     "name": "stdin",
     "output_type": "stream",
     "text": [
      "Protein seq please: lkajdlkaelkamfalw\n"
     ]
    },
    {
     "name": "stdout",
     "output_type": "stream",
     "text": [
      "Protein contains invalid aa j at position 3\n"
     ]
    }
   ],
   "source": [
    "#there code\n",
    "protein = input('Protein seq please:')\n",
    "for i in range(len(protein)):  # used range(length of total protein sequence)\n",
    "    if protein[i] not in aa:\n",
    "        print('Protein contains invalid aa %s at position %d' % (protein[i],i))\n",
    "        "
   ]
  },
  {
   "cell_type": "code",
   "execution_count": 9,
   "metadata": {},
   "outputs": [
    {
     "name": "stdin",
     "output_type": "stream",
     "text": [
      "Protein seq please: lksdfsoadjfeiojnd\n"
     ]
    },
    {
     "name": "stdout",
     "output_type": "stream",
     "text": [
      "This protein is not valid: aa o at position 6\n"
     ]
    }
   ],
   "source": [
    "#breaking loop problem: we want to know whether the protein sequence is valid\n",
    "protein = input('Protein seq please:')\n",
    "for i in range(len(protein)):  # used range(length of total protein sequence)\n",
    "    if protein[i] not in aa:\n",
    "        print('This protein is not valid: aa %s at position %d' % (protein[i],i))\n",
    "        break\n",
    "        "
   ]
  },
  {
   "cell_type": "code",
   "execution_count": 12,
   "metadata": {},
   "outputs": [
    {
     "name": "stdin",
     "output_type": "stream",
     "text": [
      "Give p seq: lkjadsfoieajfldkj\n"
     ]
    },
    {
     "name": "stdout",
     "output_type": "stream",
     "text": [
      "lkadsfieafldk\n"
     ]
    }
   ],
   "source": [
    "# continue statement problem: delete all invalid aa's from protein seq\n",
    "\n",
    "protein = input(\"Give p seq:\")\n",
    "corrected_seq = \"\"\n",
    "for i in (protein):\n",
    "    if i not in aa:\n",
    "        continue  #skips over the incorrect aa index \n",
    "    corrected_seq = corrected_seq + i\n",
    "    \n",
    "print(corrected_seq)\n",
    "        "
   ]
  },
  {
   "cell_type": "code",
   "execution_count": 1,
   "metadata": {},
   "outputs": [
    {
     "name": "stdout",
     "output_type": "stream",
     "text": [
      "2 is a prime number\n",
      "3 is a prime number\n",
      "4 equals 2 * 2\n",
      "5 is a prime number\n",
      "6 equals 2 * 3\n",
      "7 is a prime number\n",
      "8 equals 2 * 4\n",
      "9 equals 3 * 3\n"
     ]
    }
   ],
   "source": [
    "#'else' with 'for' loop problem: Find all prime numbers smaller than a given integer\n",
    "\n",
    "n = 10 # the given integer\n",
    "for y in range(2, n):\n",
    "    for x in range(2, y):\n",
    "        if y % x == 0:\n",
    "            print(y, 'equals', x, '*', y // x)\n",
    "            break\n",
    "    else:\n",
    "        #loop fell through without finding a factor\n",
    "        print(y, 'is a prime number')\n",
    "\n",
    "\n"
   ]
  },
  {
   "cell_type": "code",
   "execution_count": 19,
   "metadata": {},
   "outputs": [
    {
     "name": "stdout",
     "output_type": "stream",
     "text": [
      "a\n",
      "at\n",
      "t\n",
      "atc\n",
      "tc\n",
      "c\n"
     ]
    }
   ],
   "source": [
    "'''A substring in programming represents all characters from a string, \n",
    "between two specified indices. Given a variable string called seq, \n",
    "a student writes the following program that will generate all nonempty substrings of seq:'''\n",
    "#basically print all the substrings possible\n",
    "seq = \"atcg\"\n",
    "for i in range(len(seq)) :    # line 1\n",
    "        for j in range(i) :        # line 2\n",
    "                print(seq[j:i])     # line 3"
   ]
  },
  {
   "cell_type": "code",
   "execution_count": 22,
   "metadata": {},
   "outputs": [
    {
     "name": "stdout",
     "output_type": "stream",
     "text": [
      "a\n",
      "at\n",
      "t\n",
      "atc\n",
      "tc\n",
      "c\n"
     ]
    }
   ],
   "source": [
    "#or with a while loop (for = while)\n",
    "\n",
    "i=0 \n",
    "while i<len(seq):\n",
    "    j=0 \n",
    "    while(j<i) :\n",
    "        print(seq[j:i])\n",
    "        j+=1\n",
    "    i+=1\n",
    "            "
   ]
  },
  {
   "cell_type": "code",
   "execution_count": 26,
   "metadata": {},
   "outputs": [
    {
     "ename": "TabError",
     "evalue": "inconsistent use of tabs and spaces in indentation (<ipython-input-26-d02ed4bf80c6>, line 6)",
     "output_type": "error",
     "traceback": [
      "\u001b[0;36m  File \u001b[0;32m\"<ipython-input-26-d02ed4bf80c6>\"\u001b[0;36m, line \u001b[0;32m6\u001b[0m\n\u001b[0;31m    d[x]=True\u001b[0m\n\u001b[0m             ^\u001b[0m\n\u001b[0;31mTabError\u001b[0m\u001b[0;31m:\u001b[0m inconsistent use of tabs and spaces in indentation\n"
     ]
    }
   ],
   "source": [
    "#very confusing problem from quiz 4\n",
    "mylist =[1,2,2,3,4,5]\n",
    "d = {}\n",
    "result = False\n",
    "for x in mylist:\n",
    "    if not x in d:\n",
    "\td[x]=True\n",
    "\tcontinue\n",
    "        result = True\n",
    "\n",
    "d = {}\n",
    "result = False\n",
    "for x in mylist:\n",
    "    if not x in d:\n",
    "\td[x]=True\n",
    "\tcontinue\n",
    "        result = True"
   ]
  },
  {
   "cell_type": "code",
   "execution_count": 8,
   "metadata": {},
   "outputs": [
    {
     "ename": "IndentationError",
     "evalue": "unexpected indent (<ipython-input-8-5d491999b462>, line 8)",
     "output_type": "error",
     "traceback": [
      "\u001b[0;36m  File \u001b[0;32m\"<ipython-input-8-5d491999b462>\"\u001b[0;36m, line \u001b[0;32m8\u001b[0m\n\u001b[0;31m    n_count = float(seq.count(\"n\") + seq.count(\"N\"))\u001b[0m\n\u001b[0m    ^\u001b[0m\n\u001b[0;31mIndentationError\u001b[0m\u001b[0;31m:\u001b[0m unexpected indent\n"
     ]
    }
   ],
   "source": [
    "# Lecture 5.1 - functions\n",
    "\n",
    "#example problem 1: computing GC content\n",
    "\n",
    "dna = \"atcgatcgggggggnnnnnncgg\"\n",
    "\n",
    "def gc(seq):  # function counts gc content of dna string\n",
    "    n_count = float(seq.count(\"n\") + seq.count(\"N\"))\n",
    "    gc_total = float(seq.count(\"c\") + seq.count(\"g\"))\n",
    "    gc_percent = (gc_total / (len(seq) - n_count)) * 100\n",
    "    return gc_percent\n",
    "\n",
    "gc(dna)\n",
    "help(gc)"
   ]
  },
  {
   "cell_type": "code",
   "execution_count": 7,
   "metadata": {},
   "outputs": [
    {
     "name": "stdout",
     "output_type": "stream",
     "text": [
      "20\n"
     ]
    },
    {
     "data": {
      "text/plain": [
       "(True, 3)"
      ]
     },
     "execution_count": 7,
     "metadata": {},
     "output_type": "execute_result"
    }
   ],
   "source": [
    "#Lecture 5.2 - functions\n",
    "\n",
    "#example problem 2: checking for stop codons\n",
    "#addition: would like to identify which frame the stop codon is in...how to do this?\n",
    "\n",
    "\n",
    "def stop_codon(seq):  # this fucntion checks for codons in every frame\n",
    "    frame = 1 \n",
    "    stop_codon_found = False\n",
    "    stop_codons = [\"tga\",\"tag\",\"taa\"]\n",
    "    print(len(seq))\n",
    "    for i in range(0,len(seq),3):  #default frame 1\n",
    "        codon = seq[i:i+3].lower()\n",
    "        if codon in stop_codons:\n",
    "            stop_codon_found = True\n",
    "            break\n",
    "    for i in range(1,len(seq),3):  #default frame 0\n",
    "        codon = seq[i:i+3].lower()\n",
    "        frame = 2\n",
    "        if codon in stop_codons:\n",
    "            stop_codon_found = True\n",
    "            break\n",
    "    for i in range(2,len(seq),3):  #default frame 0\n",
    "        codon = seq[i:i+3].lower()\n",
    "        frame = 3\n",
    "        if codon in stop_codons:\n",
    "            stop_codon_found = True\n",
    "            break\n",
    "    return stop_codon_found, frame\n",
    "\n",
    "dna = \"acacacgcagtttacgttaa\"\n",
    "stop_codon(dna)\n",
    "        "
   ]
  },
  {
   "cell_type": "code",
   "execution_count": 21,
   "metadata": {},
   "outputs": [
    {
     "name": "stdout",
     "output_type": "stream",
     "text": [
      "acacacgcagtttacgttaa\n"
     ]
    },
    {
     "data": {
      "text/plain": [
       "'ttaacgtaaactgcgtgtgt'"
      ]
     },
     "execution_count": 21,
     "metadata": {},
     "output_type": "execute_result"
    }
   ],
   "source": [
    "#Lecture 5.3 - functions\n",
    "#Ex problem: reverse complement; reversing a string, combining functions \n",
    "\n",
    "#my code first\n",
    "def rev(dna):\n",
    "    seq_rev = dna[::-1]\n",
    "    return seq_rev\n",
    "\n",
    "def complement(dna):  #use dictionary for complementation partners simplified (only lowercase)\n",
    "    base_comp = {'a':'t','t':'a','c':'g','g':'c','n':'n'}\n",
    "    complement_seq = ''\n",
    "    for n in dna:\n",
    "        for key,value in base_comp.items():\n",
    "            if n == key:\n",
    "                complement_seq += value\n",
    "    return complement_seq\n",
    "\n",
    "def rev_complement(dna):\n",
    "    seq = rev(dna)\n",
    "    seq = complement(seq)\n",
    "    return seq\n",
    "    \n",
    "print(dna)\n",
    "rev_complement(dna)    "
   ]
  },
  {
   "cell_type": "code",
   "execution_count": 22,
   "metadata": {},
   "outputs": [
    {
     "name": "stdout",
     "output_type": "stream",
     "text": [
      "['a', 'c', 'a', 'c', 'a', 'c', 'g', 'c', 'a', 'g', 't', 't', 't', 'a', 'c', 'g', 't', 't', 'a', 'a']\n",
      "['t', 'g', 't', 'g', 't', 'g', 'c', 'g', 't', 'c', 'a', 'a', 'a', 't', 'g', 'c', 'a', 'a', 't', 't']\n"
     ]
    }
   ],
   "source": [
    "#Lecture 5.3 - functions\n",
    "#Ex problem: reverse complement; reversing a string, combining functions \n",
    "\n",
    "#now prof's code\n",
    "'''includes list comprehensions! important to reduce code for iterating thru your string sequence! \n",
    "but they convert the string sequence to a list and then change the bases...'''\n",
    "\n",
    "letters = list(dna)\n",
    "base_comp = {'a':'t','t':'a','c':'g','g':'c','n':'n'}\n",
    "c_letters = [base_comp[base] for base in letters]\n",
    "print(letters)\n",
    "print(c_letters)"
   ]
  },
  {
   "cell_type": "code",
   "execution_count": 26,
   "metadata": {},
   "outputs": [
    {
     "data": {
      "text/plain": [
       "5"
      ]
     },
     "execution_count": 26,
     "metadata": {},
     "output_type": "execute_result"
    }
   ],
   "source": [
    "#Lecture 5 quiz:\n",
    "#challenging problem\n",
    "\n",
    "def compute(n,x,y) :\n",
    "    if n==0 : return x\n",
    "    return compute(n-1,x+y,y)\n",
    "\n",
    "compute(1,2,3)"
   ]
  },
  {
   "cell_type": "code",
   "execution_count": 1,
   "metadata": {},
   "outputs": [
    {
     "name": "stdout",
     "output_type": "stream",
     "text": [
      "fuck\n",
      "you\n"
     ]
    },
    {
     "ename": "UnboundLocalError",
     "evalue": "local variable 'message' referenced before assignment",
     "output_type": "error",
     "traceback": [
      "\u001b[0;31m---------------------------------------------------------------------------\u001b[0m",
      "\u001b[0;31mUnboundLocalError\u001b[0m                         Traceback (most recent call last)",
      "\u001b[0;32m<ipython-input-1-e6341484e1cd>\u001b[0m in \u001b[0;36m<module>\u001b[0;34m\u001b[0m\n\u001b[1;32m     14\u001b[0m \u001b[0mmessage\u001b[0m\u001b[0;34m=\u001b[0m\u001b[0;34m\"Outside function!\"\u001b[0m\u001b[0;34m\u001b[0m\u001b[0m\n\u001b[1;32m     15\u001b[0m \u001b[0;34m\u001b[0m\u001b[0m\n\u001b[0;32m---> 16\u001b[0;31m \u001b[0mf\u001b[0m\u001b[0;34m(\u001b[0m\u001b[0;34m\"Test function:\"\u001b[0m\u001b[0;34m)\u001b[0m\u001b[0;34m\u001b[0m\u001b[0m\n\u001b[0m",
      "\u001b[0;32m<ipython-input-1-e6341484e1cd>\u001b[0m in \u001b[0;36mf\u001b[0;34m(mystring)\u001b[0m\n\u001b[1;32m      7\u001b[0m \u001b[0;34m\u001b[0m\u001b[0m\n\u001b[1;32m      8\u001b[0m \u001b[0;32mdef\u001b[0m \u001b[0mf\u001b[0m\u001b[0;34m(\u001b[0m\u001b[0mmystring\u001b[0m\u001b[0;34m)\u001b[0m\u001b[0;34m:\u001b[0m\u001b[0;34m\u001b[0m\u001b[0m\n\u001b[0;32m----> 9\u001b[0;31m     \u001b[0mprint\u001b[0m\u001b[0;34m(\u001b[0m\u001b[0mmessage\u001b[0m\u001b[0;34m)\u001b[0m\u001b[0;34m\u001b[0m\u001b[0m\n\u001b[0m\u001b[1;32m     10\u001b[0m     \u001b[0mprint\u001b[0m\u001b[0;34m(\u001b[0m\u001b[0mmystring\u001b[0m\u001b[0;34m)\u001b[0m\u001b[0;34m\u001b[0m\u001b[0m\n\u001b[1;32m     11\u001b[0m     \u001b[0mmessage\u001b[0m\u001b[0;34m=\u001b[0m\u001b[0;34m\"Inside function now!\"\u001b[0m\u001b[0;34m\u001b[0m\u001b[0m\n",
      "\u001b[0;31mUnboundLocalError\u001b[0m: local variable 'message' referenced before assignment"
     ]
    }
   ],
   "source": [
    "def f(mystring):\n",
    "    print(message)\n",
    "    print(mystring)\n",
    "\n",
    "message = \"fuck\"\n",
    "f(\"you\")\n",
    "\n",
    "def f(mystring):\n",
    "    print(message)\n",
    "    print(mystring)\n",
    "    message=\"Inside function now!\"\n",
    "    print(message)\n",
    "    \n",
    "message=\"Outside function!\"\n",
    "\n",
    "f(\"Test function:\")\n"
   ]
  }
 ],
 "metadata": {
  "kernelspec": {
   "display_name": "Python 3",
   "language": "python",
   "name": "python3"
  },
  "language_info": {
   "codemirror_mode": {
    "name": "ipython",
    "version": 3
   },
   "file_extension": ".py",
   "mimetype": "text/x-python",
   "name": "python",
   "nbconvert_exporter": "python",
   "pygments_lexer": "ipython3",
   "version": "3.7.0"
  }
 },
 "nbformat": 4,
 "nbformat_minor": 4
}
