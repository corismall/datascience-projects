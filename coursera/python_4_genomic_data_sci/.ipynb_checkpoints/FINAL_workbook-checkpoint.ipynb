{
 "cells": [
  {
   "cell_type": "code",
   "execution_count": 71,
   "metadata": {},
   "outputs": [
    {
     "data": {
      "text/plain": [
       "'Write a Python program that takes as input a file containing DNA sequences in multi-FASTA format, and \\ncomputes the answers to the following questions. You can choose to write one program with multiple \\nfunctions to answer these questions, or you can write several programs to address them. We will provide a \\nmulti-FASTA file for you, and you will run your program to answer the exam questions.'"
      ]
     },
     "execution_count": 71,
     "metadata": {},
     "output_type": "execute_result"
    }
   ],
   "source": [
    "'''Write a Python program that takes as input a file containing DNA sequences in multi-FASTA format, and \n",
    "computes the answers to the following questions. You can choose to write one program with multiple \n",
    "functions to answer these questions, or you can write several programs to address them. We will provide a \n",
    "multi-FASTA file for you, and you will run your program to answer the exam questions.'''"
   ]
  },
  {
   "cell_type": "code",
   "execution_count": 1,
   "metadata": {},
   "outputs": [],
   "source": [
    "'''(1) How many records are in the file? A record in a FASTA file is defined as a single-line header, \n",
    "followed by lines of sequence data. The header line is distinguished from the sequence data by a \n",
    "greater-than (\">\") symbol in the first column. The word following the \">\" symbol is the identifier of \n",
    "the sequence, and the rest of the line is an optional description of the entry. There should be no space \n",
    "between the \">\" and the first letter of the identifier.'''\n",
    "\n",
    "from Bio import SeqIO\n",
    "from Bio.Seq import Seq\n",
    "from Bio.Alphabet import generic_dna\n",
    "\n",
    "exseqs = (SeqIO.index('dna.example.fasta', 'fasta'))\n",
    "\n",
    "def dict_seqs(seqs):\n",
    "    '''\n",
    "    Indexing fasta sequences into seqrecords and writing id and sequence into a dictionary\n",
    "    '''\n",
    "    seq_dict = {}\n",
    "    for key, SeqRecord in seqs.items():\n",
    "        seq_dict[key] = str(SeqRecord.seq)\n",
    "        #print(key,SeqRecord, '\\n')\n",
    "    #print(len(seq_dict))\n",
    "    return seq_dict\n",
    "\n",
    "ex = dict_seqs(exseqs)\n"
   ]
  },
  {
   "cell_type": "code",
   "execution_count": 3,
   "metadata": {},
   "outputs": [],
   "source": [
    "'''(2) What are the lengths of the sequences in the file? What is the longest sequence and what is the \n",
    "shortest sequence? Is there more than one longest or shortest sequence? What are their identifiers?'''\n",
    "\n",
    "def sort_seqlens(seq_dict):\n",
    "    '''\n",
    "    Creates sorted list of tuples of seq id and sequence lengths from dictionary\n",
    "    '''    \n",
    "    seqlen_tuple = sorted((len(v),k) for (k,v) in seq_dict.items()) #list comprehension of tuple (k = id,v = length)\n",
    "    return seqlen_tuple\n"
   ]
  },
  {
   "cell_type": "code",
   "execution_count": 4,
   "metadata": {},
   "outputs": [],
   "source": [
    "def len_minmax(seqs_tuple):\n",
    "    '''\n",
    "    Returns max and min lengths of list of tuples\n",
    "    '''\n",
    "    longest = seqs_tuple[-1][0]\n",
    "    shortest = seqs_tuple[0][0]\n",
    "    return ('Shortest: ', shortest, 'Longest: ', longest)\n"
   ]
  },
  {
   "cell_type": "code",
   "execution_count": 5,
   "metadata": {},
   "outputs": [],
   "source": [
    "def seq_dups(seq_tuples):\n",
    "    '''\n",
    "    Prints sequences with the same lengths from a list of tuples with id and sequence lengths\n",
    "    '''\n",
    "    #print(seq_tuples)\n",
    "    len_dup = []\n",
    "    for i in seq_tuples:  #checks for duplication of lengths i[0]\n",
    "        if i[0] not in len_dup:\n",
    "            len = i[0]\n",
    "            len_dup.append(len)\n",
    "        else:\n",
    "            print('Same length, Id:', i[1], 'length:', i[0])\n",
    "            continue\n",
    "        #print(len_dup)\n"
   ]
  },
  {
   "cell_type": "code",
   "execution_count": 68,
   "metadata": {},
   "outputs": [
    {
     "data": {
      "text/plain": [
       "\"(3) In molecular biology, a reading frame is a way of dividing the DNA sequence of nucleotides into a set \\nof consecutive, non-overlapping triplets (or codons). Depending on where we start, there are six possible \\nreading frames: three in the forward (5' to 3') direction and three in the reverse (3' to 5'). \\nFor instance, the three possible forward reading frames for the sequence AGGTGACACCGCAAGCCTTATATTAGC are:\\n\\nAGG TGA CAC CGC AAG CCT TAT ATT AGC\\n\\nA GGT GAC ACC GCA AGC CTT ATA TTA GC\\n\\nAG GTG ACA CCG CAA GCC TTA TAT TAG C\\n\\nThese are called reading frames 1, 2, and 3 respectively. An open reading frame (ORF) is the part of a \\nreading frame that has the potential to encode a protein. It starts with a start codon (ATG), and ends \\nwith a stop codon (TAA, TAG or TGA). For instance, ATGAAATAG is an ORF of length 9.\\n\\n\\nGiven an input reading frame on the forward strand (1, 2, or 3) your program should be able to identify \\nall ORFs present in each sequence of the FASTA file, and answer the following questions: what is the \\nlength of the longest ORF in the file? What is the identifier of the sequence containing the longest ORF? \\nFor a given sequence identifier, what is the longest ORF contained in the sequence represented by that \\nidentifier? What is the starting position of the longest ORF in the sequence that contains it? \\nThe position should indicate the character number in the sequence. For instance, the following ORF in \\nreading frame 1:\\n\\n>sequence1\\n\\nATGCCCTAG\\n\\nstarts at position 1.\\n\\nNote that because the following sequence:\\n\\n>sequence2\\n\\nATGAAAAAA\\n\\ndoes not have any stop codon in reading frame 1, we do not consider it to be an ORF in reading frame 1.\""
      ]
     },
     "execution_count": 68,
     "metadata": {},
     "output_type": "execute_result"
    }
   ],
   "source": [
    "'''(3) In molecular biology, a reading frame is a way of dividing the DNA sequence of nucleotides into a set \n",
    "of consecutive, non-overlapping triplets (or codons). Depending on where we start, there are six possible \n",
    "reading frames: three in the forward (5' to 3') direction and three in the reverse (3' to 5'). \n",
    "For instance, the three possible forward reading frames for the sequence AGGTGACACCGCAAGCCTTATATTAGC are:\n",
    "\n",
    "AGG TGA CAC CGC AAG CCT TAT ATT AGC\n",
    "\n",
    "A GGT GAC ACC GCA AGC CTT ATA TTA GC\n",
    "\n",
    "AG GTG ACA CCG CAA GCC TTA TAT TAG C\n",
    "\n",
    "These are called reading frames 1, 2, and 3 respectively. An open reading frame (ORF) is the part of a \n",
    "reading frame that has the potential to encode a protein. It starts with a start codon (ATG), and ends \n",
    "with a stop codon (TAA, TAG or TGA). For instance, ATGAAATAG is an ORF of length 9.\n",
    "\n",
    "\n",
    "Given an input reading frame on the forward strand (1, 2, or 3) your program should be able to identify \n",
    "all ORFs present in each sequence of the FASTA file, and answer the following questions: what is the \n",
    "length of the longest ORF in the file? What is the identifier of the sequence containing the longest ORF? \n",
    "For a given sequence identifier, what is the longest ORF contained in the sequence represented by that \n",
    "identifier? What is the starting position of the longest ORF in the sequence that contains it? \n",
    "The position should indicate the character number in the sequence. For instance, the following ORF in \n",
    "reading frame 1:\n",
    "\n",
    ">sequence1\n",
    "\n",
    "ATGCCCTAG\n",
    "\n",
    "starts at position 1.\n",
    "\n",
    "Note that because the following sequence:\n",
    "\n",
    ">sequence2\n",
    "\n",
    "ATGAAAAAA\n",
    "\n",
    "does not have any stop codon in reading frame 1, we do not consider it to be an ORF in reading frame 1.'''\n",
    "\n",
    "\n",
    "#Objective: to identify all ORFs present in each sequence of the FASTA file\n",
    "\n",
    "#what is the length of the longest ORF in the file?\n",
    "#What is the identifier of the sequence containing the longest ORF?\n",
    "\n",
    "\n",
    "#For a given sequence identifier, what is the longest ORF contained in the sequence represented by that identifier?\n",
    "#What is the starting position of the longest ORF in the sequence that contains it?"
   ]
  },
  {
   "cell_type": "code",
   "execution_count": 80,
   "metadata": {},
   "outputs": [
    {
     "name": "stdout",
     "output_type": "stream",
     "text": [
      "a\n",
      "b\n",
      "a [['ATG', 'CTG', 'TAG'], ['CTA', 'CAG', 'CAT'], ['TGC', 'TGT', 'AG'], ['TAC', 'AGC', 'AT'], ['GCT', 'GTA', 'G'], ['ACA', 'GCA', 'T']]\n",
      "b [['AAA', 'ATG', 'CCT', 'TAA', 'CCC', 'CCG', 'TAA'], ['TTA', 'CGG', 'GGG', 'TTA', 'AGG', 'CAT', 'TTT'], ['AAA', 'TGC', 'CTT', 'AAC', 'CCC', 'CGT', 'AA'], ['TAC', 'GGG', 'GGT', 'TAA', 'GGC', 'ATT', 'TT'], ['AAT', 'GCC', 'TTA', 'ACC', 'CCC', 'GTA', 'A'], ['ACG', 'GGG', 'GTT', 'AAG', 'GCA', 'TTT', 'T']]\n"
     ]
    }
   ],
   "source": [
    "def rev(seq):\n",
    "    '''\n",
    "    Reverses sequence\n",
    "    '''\n",
    "    seq_rev = seq[::-1]\n",
    "    return seq_rev\n",
    "\n",
    "def complement(seq):  \n",
    "    ''''Uses dictionary for complementation partners simplified (only lowercase)'''\n",
    "    seq = seq.upper()\n",
    "    base_comp = {'A':'T','T':'A','C':'G','G':'C','N':'N'}\n",
    "    complement_seq = ''\n",
    "    for n in seq:\n",
    "        for key,value in base_comp.items():\n",
    "            if n == key:\n",
    "                complement_seq += value\n",
    "    return complement_seq\n",
    "\n",
    "def rev_complement(seq):\n",
    "    seq = rev(seq)\n",
    "    seq = complement(seq)\n",
    "    return seq\n",
    "\n",
    "def frame_seqs(seq_dict):\n",
    "    '''\n",
    "    Creates a list of each frame (all 6) of sequences in order: 1_F, 1_R, etc\n",
    "    '''\n",
    "    frames_dict = {}\n",
    "    for key,seq in seq_dict.items():\n",
    "        print(key)\n",
    "        revcomp_seq = rev_complement(seq_dict[key])\n",
    "        #print(revcomp_seq)\n",
    "        frames = []\n",
    "        for j in range(0, 3):\n",
    "            frame_f = []\n",
    "            frame_r = []\n",
    "            for n in range(j,len(seq_dict[key]),3):\n",
    "                codon = seq_dict[key][n:n+3]\n",
    "                frame_f.append(codon)\n",
    "            frames.append(frame_f)\n",
    "            for n in range(j,len(revcomp_seq),3):\n",
    "                codon = revcomp_seq[n:n+3]\n",
    "                #print(codon)\n",
    "                frame_r.append(codon)\n",
    "            frames.append(frame_r)\n",
    "        frames_dict[key] = frames\n",
    "        continue \n",
    "            \n",
    "    #print(frames_dict)       \n",
    "    return frames_dict\n",
    "\n",
    "\n",
    "'''ex_dict = {\n",
    "    'a':'ATGCTGTAG',\n",
    "    'b':'AAAATGCCTTAACCCCCGTAA'   \n",
    "}'''\n",
    "#print(ex_dict)\n",
    "\n",
    "framed_dict = frame_seqs(ex_dict)\n",
    "\n",
    "for key,value in framed_dict.items():\n",
    "    print(key,value)"
   ]
  },
  {
   "cell_type": "code",
   "execution_count": 79,
   "metadata": {},
   "outputs": [
    {
     "name": "stdout",
     "output_type": "stream",
     "text": [
      "a {'1_F': ['ATGCTGTAG'], '1_R': [], '2_F': [], '2_R': [], '3_F': [], '3_R': []}\n",
      "b {'1_F': ['ATGCCTTAA', 'ATGCCTTAACCCCCGTAA'], '1_R': [], '2_F': [], '2_R': [], '3_F': [], '3_R': []}\n"
     ]
    }
   ],
   "source": [
    "def find_start(list):\n",
    "    '''\n",
    "    Function returns index if a codon is id'd as start position in a list and returns a list of start indeces\n",
    "    '''\n",
    "    start = 'ATG'\n",
    "    start_list = []\n",
    "    for index,i in enumerate(list):  #order matters, index comes first then value of each item in list\n",
    "        if i == start:  #if codon is start codon\n",
    "            start_pos = index  #get starting index \n",
    "            start_list.append(start_pos)\n",
    "        else:\n",
    "            continue\n",
    "    return start_list\n",
    "    \n",
    "\n",
    "def find_stop(list):\n",
    "    '''\n",
    "    Function finds each stop position in a list of string seq and returns a list of stop indeces\n",
    "    '''\n",
    "    stop = ['TAG', 'TGA', 'TAA']\n",
    "    stop_list = []\n",
    "    for index,i in enumerate(list):\n",
    "        for codon in stop:\n",
    "            if i == codon:  #for each stop codon in list\n",
    "                stop_pos = index + 1  #get stop index (+1 to include the stop codon)\n",
    "                #print('stop found', i)\n",
    "                stop_list.append(stop_pos)\n",
    "                #print(stop_list)\n",
    "            else:\n",
    "                continue\n",
    "    return stop_list\n",
    "            \n",
    "\n",
    "\n",
    "\n",
    "def seq_orfs(frames_dict):\n",
    "    \n",
    "    '''\n",
    "    This function finds ORFs in each frame and adds them to a dictionary: key = frame, value = orf list\n",
    "    '''\n",
    "\n",
    "    for key, value in frames_dict.items():\n",
    "        #print(key,value)\n",
    "        frames = value  #assigns all frames for a sequence to variable frames\n",
    "        orf_dict = {}\n",
    "        \n",
    "        for index,frame in enumerate(frames):  #for each of the 6 frames, create frame label\n",
    "            \n",
    "            if index == 0:\n",
    "                f = '1_F'\n",
    "            if index == 1:\n",
    "                f = '1_R'\n",
    "            if index == 2:\n",
    "                f = '2_F'\n",
    "            if index == 3:\n",
    "                f = '2_R'\n",
    "            if index == 4:\n",
    "                f = '3_F'\n",
    "            if index == 5:\n",
    "                f = '3_R'\n",
    "              \n",
    "            start = find_start(frame)\n",
    "            stop = find_stop(frame)\n",
    "            #print(start,stop)\n",
    "            orf_dict[f] = []\n",
    "            \n",
    "            for i in start:\n",
    "                orfs = []\n",
    "                i = int(i)\n",
    "                for j in stop:\n",
    "                    j = int(j)\n",
    "                    seq = ''.join(frame[i:j])\n",
    "                    orfs.append(seq)\n",
    "                #print(orfs)\n",
    "                orf_dict[f] = orfs\n",
    "        \n",
    "        print(key, orf_dict)\n",
    "    \n",
    "            \n",
    "        \n",
    "                \n",
    "\n",
    "        \n",
    "           \n",
    "                \n",
    "        \n",
    "            \n",
    "    \n",
    "\n",
    "seq_orfs(framed_dict)"
   ]
  },
  {
   "cell_type": "code",
   "execution_count": 30,
   "metadata": {},
   "outputs": [
    {
     "data": {
      "text/plain": [
       "('Longest orf for', '1_F', 'is', 27)"
      ]
     },
     "execution_count": 30,
     "metadata": {},
     "output_type": "execute_result"
    }
   ],
   "source": [
    "def longest_orf(orf_dict):\n",
    "    '''\n",
    "    prints the longest orf of each sequence\n",
    "    '''\n",
    "    lens = []\n",
    "    for key,value in orf_dict.items():\n",
    "        for orf in value:\n",
    "            lens.append(len(orf))\n",
    "            sorted_lens = sorted(lens)\n",
    "            #print(sorted_lens)\n",
    "        longest_orf = sorted_lens[-1]\n",
    "        return 'Longest orf for', key, 'is', longest_orf\n",
    "\n",
    "exdict = {'1_F': ['ATGCCCTAG', 'ATGCCCTAGATGCCCTAGAAACGATAA'],\n",
    " '1_R': [],\n",
    " '2_F': [],\n",
    " '2_R': [],\n",
    " '3_F': [],\n",
    " '3_R': []}\n",
    "\n",
    "longest_orf(exdict)"
   ]
  },
  {
   "cell_type": "code",
   "execution_count": 48,
   "metadata": {},
   "outputs": [
    {
     "data": {
      "text/plain": [
       "{'GAG': 3,\n",
       " 'TTT': 1,\n",
       " 'TGC': 1,\n",
       " 'GCC': 1,\n",
       " 'TAG': 1,\n",
       " 'AAA': 1,\n",
       " 'CGA': 1,\n",
       " 'TAA': 1}"
      ]
     },
     "execution_count": 48,
     "metadata": {},
     "output_type": "execute_result"
    }
   ],
   "source": [
    "def repeats(seqs_dict,n):\n",
    "    for key,seq in seqs_dict.items():\n",
    "        #print(seqs_dict[key])\n",
    "        substrings = []\n",
    "        repeat_dict = {}\n",
    "        seq_list_by_n =[]\n",
    "        \n",
    "        for i in range(0,len(seq),n):  #default frame 1\n",
    "            subseq = seq[i:i+n].upper()\n",
    "            #print(subseq)\n",
    "            if subseq not in substrings:\n",
    "                substrings.append(subseq)\n",
    "            #print(substrings)\n",
    "            for s in substrings:\n",
    "                repeat_dict[s] = 0\n",
    "            #print(repeat_dict)\n",
    "        \n",
    "        for i in range(0,len(seq),n):  #default frame 1\n",
    "            subseq = seq[i:i+n].upper()\n",
    "            seq_list_by_n.append(subseq)\n",
    "        \n",
    "        #print(seq_list_by_n)\n",
    "        for s in seq_list_by_n:\n",
    "            repeat_dict[s] += 1\n",
    "        return repeat_dict            \n",
    "            \n"
   ]
  }
 ],
 "metadata": {
  "kernelspec": {
   "display_name": "Python 3",
   "language": "python",
   "name": "python3"
  },
  "language_info": {
   "codemirror_mode": {
    "name": "ipython",
    "version": 3
   },
   "file_extension": ".py",
   "mimetype": "text/x-python",
   "name": "python",
   "nbconvert_exporter": "python",
   "pygments_lexer": "ipython3",
   "version": "3.7.0"
  }
 },
 "nbformat": 4,
 "nbformat_minor": 4
}
