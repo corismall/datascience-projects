{
 "cells": [
  {
   "cell_type": "code",
   "execution_count": 17,
   "metadata": {},
   "outputs": [
    {
     "name": "stdout",
     "output_type": "stream",
     "text": [
      "{'gi|142022655|gb|EQ086233.1|43' : SeqRecord(...), ...}\n"
     ]
    }
   ],
   "source": [
    "#Final Script\n",
    "\n",
    "from FINAL_workbook import *\n",
    "from Bio import SeqIO\n",
    "from Bio.Seq import Seq\n",
    "from Bio.Alphabet import generic_dna\n",
    "\n",
    "seqs = (SeqIO.index('dna.example.fasta', 'fasta'))\n",
    "print(seqs)"
   ]
  },
  {
   "cell_type": "code",
   "execution_count": 18,
   "metadata": {},
   "outputs": [
    {
     "name": "stdout",
     "output_type": "stream",
     "text": [
      "27\n"
     ]
    }
   ],
   "source": [
    "#### How many records are in the file? ####\n",
    "seqs_dict = dict_seqs(seqs)\n",
    "#print(len(seqs_dict))\n",
    "#print(seqs_dict)\n"
   ]
  },
  {
   "cell_type": "code",
   "execution_count": 10,
   "metadata": {},
   "outputs": [
    {
     "name": "stdout",
     "output_type": "stream",
     "text": [
      "gi|142022655|gb|EQ086233.1|43 Length:  990\n",
      "gi|142022655|gb|EQ086233.1|160 Length:  724\n",
      "gi|142022655|gb|EQ086233.1|41 Length:  3080\n",
      "gi|142022655|gb|EQ086233.1|221 Length:  2863\n",
      "gi|142022655|gb|EQ086233.1|294 Length:  3832\n",
      "gi|142022655|gb|EQ086233.1|323 Length:  4805\n",
      "gi|142022655|gb|EQ086233.1|564 Length:  1663\n",
      "gi|142022655|gb|EQ086233.1|521 Length:  512\n",
      "gi|142022655|gb|EQ086233.1|455 Length:  691\n",
      "gi|142022655|gb|EQ086233.1|229 Length:  3072\n",
      "gi|142022655|gb|EQ086233.1|422 Length:  1801\n",
      "gi|142022655|gb|EQ086233.1|384 Length:  3603\n",
      "gi|142022655|gb|EQ086233.1|280 Length:  2478\n",
      "gi|142022655|gb|EQ086233.1|158 Length:  1608\n",
      "gi|142022655|gb|EQ086233.1|59 Length:  4745\n",
      "gi|142022655|gb|EQ086233.1|319 Length:  1810\n",
      "gi|142022655|gb|EQ086233.1|438 Length:  3424\n",
      "gi|142022655|gb|EQ086233.1|210 Length:  1451\n",
      "gi|142022655|gb|EQ086233.1|237 Length:  3276\n",
      "gi|142022655|gb|EQ086233.1|507 Length:  2124\n",
      "gi|142022655|gb|EQ086233.1|350 Length:  1712\n",
      "gi|142022655|gb|EQ086233.1|245 Length:  1325\n",
      "gi|142022655|gb|EQ086233.1|279 Length:  1189\n",
      "gi|142022655|gb|EQ086233.1|378 Length:  555\n",
      "gi|142022655|gb|EQ086233.1|101 Length:  2449\n",
      "dup_check1 Length:  4\n",
      "dup_check2 Length:  4\n"
     ]
    }
   ],
   "source": [
    "#### What are the lengths of the sequences in the file? ####\n",
    "for key,value in seqs_dict.items():\n",
    "    print(key, \"Length: \", len(seqs_dict[key]))"
   ]
  },
  {
   "cell_type": "code",
   "execution_count": 11,
   "metadata": {},
   "outputs": [
    {
     "data": {
      "text/plain": [
       "('Shortest: ', 4, 'Longest: ', 4805)"
      ]
     },
     "execution_count": 11,
     "metadata": {},
     "output_type": "execute_result"
    }
   ],
   "source": [
    "#### What is the longest sequence and what is the shortest sequence? ####\n",
    "seqlist = sort_seqlens(seqs_dict)\n",
    "#print(seqlist)\n",
    "len_minmax(seqlist)"
   ]
  },
  {
   "cell_type": "code",
   "execution_count": 12,
   "metadata": {},
   "outputs": [
    {
     "name": "stdout",
     "output_type": "stream",
     "text": [
      "Same length, Id: dup_check2 length: 4\n"
     ]
    }
   ],
   "source": [
    "#### Is there more than one longest or shortest sequence? What are their identifiers? ####\n",
    "seq_dups(seqlist)"
   ]
  },
  {
   "cell_type": "code",
   "execution_count": 13,
   "metadata": {},
   "outputs": [
    {
     "ename": "NameError",
     "evalue": "name 'frame_seqs' is not defined",
     "output_type": "error",
     "traceback": [
      "\u001b[0;31m---------------------------------------------------------------------------\u001b[0m",
      "\u001b[0;31mNameError\u001b[0m                                 Traceback (most recent call last)",
      "\u001b[0;32m<ipython-input-13-ccad3ce785e7>\u001b[0m in \u001b[0;36m<module>\u001b[0;34m\u001b[0m\n\u001b[1;32m      2\u001b[0m \u001b[0;31m#### What is the identifier of the sequence containing the longest ORF? ####\u001b[0m\u001b[0;34m\u001b[0m\u001b[0;34m\u001b[0m\u001b[0m\n\u001b[1;32m      3\u001b[0m \u001b[0;34m\u001b[0m\u001b[0m\n\u001b[0;32m----> 4\u001b[0;31m \u001b[0mframe_dict\u001b[0m \u001b[0;34m=\u001b[0m \u001b[0mframe_seqs\u001b[0m\u001b[0;34m(\u001b[0m\u001b[0mseqs_dict\u001b[0m\u001b[0;34m)\u001b[0m\u001b[0;34m\u001b[0m\u001b[0m\n\u001b[0m\u001b[1;32m      5\u001b[0m \u001b[0;32mfor\u001b[0m \u001b[0mkey\u001b[0m\u001b[0;34m,\u001b[0m\u001b[0mvalue\u001b[0m \u001b[0;32min\u001b[0m \u001b[0mframed_dict\u001b[0m\u001b[0;34m.\u001b[0m\u001b[0mitems\u001b[0m\u001b[0;34m(\u001b[0m\u001b[0;34m)\u001b[0m\u001b[0;34m:\u001b[0m\u001b[0;34m\u001b[0m\u001b[0m\n\u001b[1;32m      6\u001b[0m     \u001b[0mprint\u001b[0m\u001b[0;34m(\u001b[0m\u001b[0mkey\u001b[0m\u001b[0;34m,\u001b[0m\u001b[0mvalue\u001b[0m\u001b[0;34m)\u001b[0m\u001b[0;34m\u001b[0m\u001b[0m\n",
      "\u001b[0;31mNameError\u001b[0m: name 'frame_seqs' is not defined"
     ]
    }
   ],
   "source": [
    "#### What is the length of the longest ORF in the file? ####\n",
    "#### What is the identifier of the sequence containing the longest ORF? ####\n",
    "\n",
    "frame_dict = frame_seqs(seqs_dict)\n",
    "\n",
    "for key,value in framed_dict.items():\n",
    "    print(key,value)\n",
    "    \n",
    "seq_orfs(frame_dict)\n",
    "    "
   ]
  }
 ],
 "metadata": {
  "kernelspec": {
   "display_name": "Python 3",
   "language": "python",
   "name": "python3"
  },
  "language_info": {
   "codemirror_mode": {
    "name": "ipython",
    "version": 3
   },
   "file_extension": ".py",
   "mimetype": "text/x-python",
   "name": "python",
   "nbconvert_exporter": "python",
   "pygments_lexer": "ipython3",
   "version": "3.7.0"
  }
 },
 "nbformat": 4,
 "nbformat_minor": 4
}
