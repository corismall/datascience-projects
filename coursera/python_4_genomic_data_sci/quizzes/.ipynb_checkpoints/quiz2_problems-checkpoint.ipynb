{
 "cells": [
  {
   "cell_type": "code",
   "execution_count": 7,
   "metadata": {},
   "outputs": [
    {
     "data": {
      "text/plain": [
       "10"
      ]
     },
     "execution_count": 7,
     "metadata": {},
     "output_type": "execute_result"
    }
   ],
   "source": [
    "'''Quiz Problems I answered incorrectly: Python for data science '''\n",
    "\n",
    "#Quiz 2:\n",
    "\n",
    "'''A student is writing Python 3.xx code to read in a dna sequence using the following \n",
    "command:\n",
    ">>> dna=input(\"Enter a DNA sequence, please:\")\n",
    "The student tries three different ways to compute the index of the second occurrence of the \n",
    "string 'atg' in the dna sequence:'''\n",
    "\n",
    "#A.\n",
    "dna = 'acacacaatgatg'\n",
    "#o1 = dna.find('atg')\n",
    "#dna.find('atg',o1+1)\n",
    "\n",
    "#B.\n",
    "#dna.rfind('atg')\n",
    "\n",
    "#C. \n",
    "dna.find('atg',dna.find('atg')+1)"
   ]
  },
  {
   "cell_type": "code",
   "execution_count": 9,
   "metadata": {},
   "outputs": [
    {
     "name": "stdout",
     "output_type": "stream",
     "text": [
      "<class 'float'>\n"
     ]
    }
   ],
   "source": [
    "'''What are the types of the following literals, in order?\n",
    "\n",
    "1, 1., 1.0, 1e10, 0x12,\"1\", \"1.0\", 100000000000000000, 100000000000000000.0\n",
    "\n",
    "\n",
    "correct => A) int, float, float, float,int,str,str,int,float\n",
    "\n",
    "\n",
    "B) int, float, float, float, int, int, float, int, float\n",
    "\n",
    "\n",
    "C) int, no type (error), float, double, int, string, string, long,\n",
    "\n",
    "double\n",
    "\n",
    "\n",
    "your answer => D) int, no type (error), float, float, hex, string, string, int, float\n",
    "\n",
    "\n",
    "'''\n",
    "\n",
    "print(type(1e10))"
   ]
  }
 ],
 "metadata": {
  "kernelspec": {
   "display_name": "Python 3",
   "language": "python",
   "name": "python3"
  },
  "language_info": {
   "codemirror_mode": {
    "name": "ipython",
    "version": 3
   },
   "file_extension": ".py",
   "mimetype": "text/x-python",
   "name": "python",
   "nbconvert_exporter": "python",
   "pygments_lexer": "ipython3",
   "version": "3.7.0"
  }
 },
 "nbformat": 4,
 "nbformat_minor": 4
}
