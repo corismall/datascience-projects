{
 "cells": [
  {
   "cell_type": "code",
   "execution_count": 5,
   "metadata": {},
   "outputs": [
    {
     "name": "stdout",
     "output_type": "stream",
     "text": [
      "3.7.0 (v3.7.0:1bf9cc5093, Jun 26 2018, 23:26:24) \n",
      "[Clang 6.0 (clang-600.0.57)]\n"
     ]
    }
   ],
   "source": [
    "#Quiz 6 problems\n",
    "\n",
    "import sys\n",
    "print(sys.version)"
   ]
  },
  {
   "cell_type": "code",
   "execution_count": 78,
   "metadata": {},
   "outputs": [
    {
     "data": {
      "text/plain": [
       "677"
      ]
     },
     "execution_count": 78,
     "metadata": {},
     "output_type": "execute_result"
    }
   ],
   "source": [
    "def count1(dna, base):  #works\n",
    "    i = 0\n",
    "    for c in dna:\n",
    "        if c == base:\n",
    "            i += 1 \n",
    "    return i\n",
    "\n",
    "def count2(dna, base):  #guess this works\n",
    "    i = 0 \n",
    "    for j in range(len(dna)):\n",
    "        if dna[j] == base:\n",
    "            i += 1 \n",
    "    return i \n",
    "\n",
    "def count3(dna, base):  #does work --> boolean logic == listed, then somehow sum() works for counting boolean elements?\n",
    "    match = [c == base for c in dna]\n",
    "    return sum(match)\n",
    "\n",
    "def count4(dna, base):  #works and is the fastest!!!\n",
    "    return dna.count(base)\n",
    "\n",
    "def count5(dna, base):\n",
    "    return len([i for i in range(len(dna)) if dna[i] == base]) #should work?\n",
    "\n",
    "def count6(dna,base):  #works\n",
    "    \n",
    "    return sum(c == base for c in dna)\n",
    "\n",
    "seq = '''ataataagcagcactacatctactactacgacgacgacgactacgactacgatcagctacgactagcatcagctacgactagcagcga\n",
    "ctatagaaataataagcagcactacatctactactacgacgacgacgactacgactacgatcagctacgactagcatcagctacgactagcagcgac\n",
    "tatagaaaataataagcagcactacatctactactacgacgacgacgactacgactacgatcagctacgactagcatcagctacgactagcagcgac\n",
    "tatagaaaataataagcagcactacatctactactacgacgacgacgactacgactacgatcagctacgactagcatcagctacgactagcagcgac\n",
    "tatagaaaataataagcagcactacatctactactacgacgacgacgactacgactacgatcagctacgactagcatcagctacgactagcagcgac\n",
    "tatagaaaataataagcagcactacatctactactacgacgacgacgactacgactacgatcagctacgactagcatcagctacgactagcagcgac\n",
    "tatagaaaataataagcagcactacatctactactacgacgacgacgactacgactacgatcagctacgactagcatcagctacgactagcagcgac\n",
    "tatagaaaataataagcagcactacatctactactacgacgacgacgactacgactacgatcagctacgactagcatcagctacgactagcagcgac\n",
    "tatagaaaataataagcagcactacatctactactacgacgacgacgactacgactacgatcagctacgactagcatcagctacgactagcagcgac\n",
    "ctatagaaataataagcagcactacatctactactacgacgacgacgactacgactacgatcagctacgactagcatcagctacgactagcagcgac\n",
    "tatagaaaataataagcagcactacatctactactacgacgacgacgactacgactacgatcagctacgactagcatcagctacgactagcagcgac\n",
    "tatagaaaataataagcagcactacatctactactacgacgacgacgactacgactacgatcagctacgactagcatcagctacgactagcagcgac\n",
    "tatagaaaataataagcagcactacatctactactacgacgacgacgactacgactacgatcagctacgactagcatcagctacgactagcagcgac\n",
    "tatagaaaataataagcagcactacatctactactacgacgacgacgactacgactacgatcagctacgactagcatcagctacgactagcagcgac\n",
    "tatagaaaataataagcagcactacatctactactacgacgacgacgactacgactacgatcagctacgactagcatcagctacgactagcagcgac\n",
    "tatagaaaataataagcagcactacatctactactacgacgacgacgactacgactacgatcagctacgactagcatcagctacgactagcagcgac\n",
    "tatagaaaataataagcagcactacatctactactacgacgacgacgactacgactacgatcagctacgactagcatcagctacgactagcagcgac\n",
    "ctatagaaataataagcagcactacatctactactacgacgacgacgactacgactacgatcagctacgactagcatcagctacgactagcagcgac\n",
    "tatagaaaataataagcagcactacatctactactacgacgacgacgactacgactacgatcagctacgactagcatcagctacgactagcagcgac\n",
    "tatagaaaataataagcagcactacatctactactacgacgacgacgactacgactacgatcagctacgactagcatcagctacgactagcagcgac\n",
    "tatagaaaataataagcagcactacatctactactacgacgacgacgactacgactacgatcagctacgactagcatcagctacgactagcagcgac\n",
    "tatagaaaataataagcagcactacatctactactacgacgacgacgactacgactacgatcagctacgactagcatcagctacgactagcagcgac\n",
    "tatagaaaataataagcagcactacatctactactacgacgacgacgactacgactacgatcagctacgactagcatcagctacgactagcagcgac\n",
    "tatagaaaataataagcagcactacatctactactacgacgacgacgactacgactacgatcagctacgactagcatcagctacgactagcagcgac\n",
    "tatagaaaataataagcagcactacatctactactacgacgacgacgactacgactacgatcagctacgactagcatcagctacgactagcagcgac'''\n",
    "cytosine = 'c'\n",
    "count6(seq, cytosine)"
   ]
  },
  {
   "cell_type": "code",
   "execution_count": 84,
   "metadata": {},
   "outputs": [
    {
     "name": "stdout",
     "output_type": "stream",
     "text": [
      "<function count1 at 0x106d888c8>time:  0.0005300000000003635 s\n",
      "<function count2 at 0x106d88620>time:  0.0009559999999995128 s\n",
      "<function count3 at 0x106d88158>time:  0.0006780000000006225 s\n",
      "<function count4 at 0x106d88510>time:  2.19999999995224e-05 s\n",
      "<function count5 at 0x106d88730>time:  0.0005059999999996734 s\n",
      "<function count6 at 0x106d88950>time:  0.001024000000000136 s\n"
     ]
    }
   ],
   "source": [
    "from time import clock\n",
    "\n",
    "def processing_time(count_fun, dna, base):\n",
    "    t_start = time.process_time()\n",
    "    count_fun(dna, base)\n",
    "    t_stop = time.process_time()\n",
    "    t = t_stop - t_start\n",
    "    return print(str(count_fun) + \"time: \", t, \"s\")\n",
    "\n",
    "processing_time(count1, seq, 'c')\n",
    "processing_time(count2, seq, 'c')\n",
    "processing_time(count3, seq, 'c')\n",
    "processing_time(count4, seq, 'c')\n",
    "processing_time(count5, seq, 'c')\n",
    "processing_time(count6, seq, 'c')\n"
   ]
  },
  {
   "cell_type": "code",
   "execution_count": null,
   "metadata": {},
   "outputs": [],
   "source": []
  }
 ],
 "metadata": {
  "kernelspec": {
   "display_name": "Python 3",
   "language": "python",
   "name": "python3"
  },
  "language_info": {
   "codemirror_mode": {
    "name": "ipython",
    "version": 3
   },
   "file_extension": ".py",
   "mimetype": "text/x-python",
   "name": "python",
   "nbconvert_exporter": "python",
   "pygments_lexer": "ipython3",
   "version": "3.7.0"
  }
 },
 "nbformat": 4,
 "nbformat_minor": 4
}
