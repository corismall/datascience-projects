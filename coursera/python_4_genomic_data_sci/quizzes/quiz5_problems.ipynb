{
 "cells": [
  {
   "cell_type": "code",
   "execution_count": 3,
   "metadata": {},
   "outputs": [
    {
     "name": "stdout",
     "output_type": "stream",
     "text": [
      "(2, 2)\n",
      "(2, 1)\n",
      "(2, 1)\n",
      "(2, 1)\n"
     ]
    },
    {
     "data": {
      "text/plain": [
       "'Which of the functions swap1, swap2, swap3, and swap4 is correct?\\n\\n\\nA) Functions swap3, and swap4 only\\n\\n\\nB) Functions swap2, swap3, and swap4 only\\n\\n\\nC) Function swap1 only\\n\\n\\nD) Functions swap1, swap2, and swap3 only\\n\\n'"
      ]
     },
     "execution_count": 3,
     "metadata": {},
     "output_type": "execute_result"
    }
   ],
   "source": [
    "#Quiz 5 problems\n",
    "\n",
    "'''A student writes several functions to swap the values of the two variables x and y, \n",
    "i.e. if x=1 and y=2, after calling the swap function x=2 and y=1. \n",
    "The different functions that the student writes are given below:'''\n",
    "\n",
    "def swap1(x,y) : #wont work\n",
    "    x=y\n",
    "    y=x\n",
    "    return(x,y)\n",
    "\n",
    "def swap2(x,y) : #works on some level?\n",
    "    return(y,x)\n",
    "\n",
    "def swap3(x,y) : #works\n",
    "    z=x\n",
    "    x=y\n",
    "    y=z\n",
    "    return(x,y)\n",
    "\n",
    "def swap4(x,y) : #works\n",
    "    x,y = y,x   # <- be careful! you originally thought it was x, y=y, x which makes no sense!!!!\n",
    "    return(x,y)\n",
    "\n",
    "print(swap1(1,2))\n",
    "print(swap2(1,2))\n",
    "print(swap3(1,2))\n",
    "print(swap4(1,2))\n",
    "\n",
    "\n",
    "\n",
    "'''Which of the functions swap1, swap2, swap3, and swap4 is correct?\n",
    "\n",
    "\n",
    "A) Functions swap3, and swap4 only\n",
    "\n",
    "\n",
    "answer => B) Functions swap2, swap3, and swap4 only\n",
    "\n",
    "\n",
    "C) Function swap1 only\n",
    "\n",
    "\n",
    "D) Functions swap1, swap2, and swap3 only\n",
    "\n",
    "'''"
   ]
  },
  {
   "cell_type": "code",
   "execution_count": null,
   "metadata": {},
   "outputs": [],
   "source": [
    "'''Consider the following two functions:'''\n",
    "\n",
    "def f1(x):\n",
    "    if (x > 0):\n",
    "        x = 3*x \n",
    "        x = x / 2\n",
    "    return x\n",
    "\n",
    "def f2(x):\n",
    "    if (x > 0):\n",
    "        x = 3*x\n",
    "    x = x / 2\n",
    "    return x\n",
    "\n",
    "'''For what values of x will f1 and f2 return the same value?\n",
    "\n",
    "\n",
    "A) For x < 3/2\n",
    "\n",
    "\n",
    "answer => B) When x is zero or positive\n",
    "\n",
    "\n",
    "C) For negative values of x only\n",
    "\n",
    "\n",
    "D) For x > 3/2'''"
   ]
  },
  {
   "cell_type": "code",
   "execution_count": 7,
   "metadata": {},
   "outputs": [
    {
     "name": "stdout",
     "output_type": "stream",
     "text": [
      "3\n",
      "2\n",
      "1\n"
     ]
    },
    {
     "data": {
      "text/plain": [
       "'What can you say about the output of function1(3) and function2(3)?\\n\\nA) The two functions produce the same output:\\n\\n3\\n\\n2\\n\\n1\\n\\n\\nanswer => B) function1 produces the output:\\n\\n3\\n\\n2\\n\\n1\\n\\nand function2 runs infinitely.\\n\\n\\nC) The two functions produce the same output 1 2 3.\\n\\n\\nD) function1 produces the output: 3 2 1 and function2 runs infinitely.\\n'"
      ]
     },
     "execution_count": 7,
     "metadata": {},
     "output_type": "execute_result"
    }
   ],
   "source": [
    "'''A recursive function in programming is a function that calls itself during its execution. \n",
    "The following two functions are examples of recursive functions:'''\n",
    "\n",
    "def function1(length):\n",
    "    if length > 0:\n",
    "        print(length)\n",
    "        function1(length - 1)\n",
    "        \n",
    "def function2(length):   # <- why does it get stuck on 1? WHILE \n",
    "    while length > 0:\n",
    "        print(length)\n",
    "        function2(length - 1)\n",
    "\n",
    "function1(3)\n",
    "'''What can you say about the output of function1(3) and function2(3)?\n",
    "\n",
    "A) The two functions produce the same output:\n",
    "\n",
    "3\n",
    "\n",
    "2\n",
    "\n",
    "1\n",
    "\n",
    "\n",
    "answer => B) function1 produces the output:\n",
    "\n",
    "3\n",
    "\n",
    "2\n",
    "\n",
    "1\n",
    "\n",
    "and function2 runs infinitely.\n",
    "\n",
    "\n",
    "C) The two functions produce the same output 1 2 3.\n",
    "\n",
    "\n",
    "D) function1 produces the output: 3 2 1 and function2 runs infinitely.\n",
    "'''\n"
   ]
  },
  {
   "cell_type": "code",
   "execution_count": 10,
   "metadata": {},
   "outputs": [
    {
     "name": "stdout",
     "output_type": "stream",
     "text": [
      "8\n"
     ]
    },
    {
     "data": {
      "text/plain": [
       "'What is the value returned by the compute function?\\n\\n\\nx+y\\n\\n\\n(n-1)*(x+y)\\n\\n\\nx+n*y\\n\\n\\nn*x+y\\n\\n'"
      ]
     },
     "execution_count": 10,
     "metadata": {},
     "output_type": "execute_result"
    }
   ],
   "source": [
    "'''The following recursive function takes three positive integer arguments:'''\n",
    "\n",
    "def compute(n,x,y) :\n",
    "    if n==0 : return x\n",
    "    return compute(n-1,x+y,y)\n",
    "\n",
    "print(compute(3,2,2))\n",
    "'''What is the value returned by the compute function?\n",
    "\n",
    "incorrect => x+y\n",
    "\n",
    "(n-1)*(x+y)\n",
    "\n",
    "next answer => x+n*y\n",
    "\n",
    "incorrect! answer => n*x+y\n",
    "'''"
   ]
  },
  {
   "cell_type": "code",
   "execution_count": null,
   "metadata": {},
   "outputs": [],
   "source": [
    "'''What will the returned value be for the compute function defined in Question 4 if the argument n \n",
    "is negative?'''\n",
    "\n",
    "\n",
    "''' answer => A) The function will never return a value.\n",
    "\n",
    "B) n*x+y\n",
    "\n",
    "C) x-n*y\n",
    "\n",
    "D) x+n*y'''\n",
    "\n"
   ]
  },
  {
   "cell_type": "code",
   "execution_count": 9,
   "metadata": {},
   "outputs": [
    {
     "name": "stdout",
     "output_type": "stream",
     "text": [
      "a\n",
      "True\n",
      "c\n",
      "True\n",
      "t\n",
      "True\n",
      "g\n",
      "True\n",
      "G\n",
      "True\n",
      "s\n",
      "False\n",
      "False\n",
      "a\n",
      "c\n",
      "t\n",
      "g\n",
      "G\n",
      "s\n",
      "False\n"
     ]
    },
    {
     "data": {
      "text/plain": [
       "'A) valid_dna1, valid_dna2, and valid_dna4 only\\n\\n\\nB) valid_dna1, and valid_dna3 only\\n\\n\\nC) valid_dna4 only\\n\\n\\nD) valid_dna2 only\\n\\n'"
      ]
     },
     "execution_count": 9,
     "metadata": {},
     "output_type": "execute_result"
    }
   ],
   "source": [
    "'''The following functions are all intended to check whether a string representing a dna sequence contains \n",
    "any characters that are not 'a','c','g','t', 'A', 'C', 'G', or 'T'. At least some of these functions \n",
    "are wrong. Which ones are correct?'''\n",
    "\n",
    "seq = 'actgGs'\n",
    "\n",
    "def valid_dna1(dna):  # doestn iterate...incorrect\n",
    "    for c in dna:\n",
    "        print(c)\n",
    "        if c in 'acgtACGT':\n",
    "            return True\n",
    "        else:\n",
    "            return False\n",
    "\n",
    "def valid_dna2(dna): #incorrect\n",
    "    for c in dna:\n",
    "        if 'c' in 'acgtACGT':\n",
    "            return 'True'\n",
    "        else:\n",
    "            return 'False'\n",
    "        \n",
    "def valid_dna3(dna):  #correct\n",
    "    for c in dna:\n",
    "        print(c)\n",
    "        flag = c in 'acgtACGT'\n",
    "        print(flag)\n",
    "    return flag\n",
    "\n",
    "\n",
    "def valid_dna4(dna):  # correct\n",
    "    for c in dna:\n",
    "        print(c)\n",
    "        if not c in 'acgtACGT':\n",
    "            return False\n",
    "    return True\n",
    "        \n",
    "#print(valid_dna1(seq)) \n",
    "#print(valid_dna2(seq)) \n",
    "print(valid_dna3(seq))\n",
    "print(valid_dna4(seq))\n",
    "\n",
    "\n",
    "'''A) valid_dna1, valid_dna2, and valid_dna4 only\n",
    "\n",
    "\n",
    "B) valid_dna1, and valid_dna3 only\n",
    "\n",
    "\n",
    "C) valid_dna4 only\n",
    "\n",
    "\n",
    "D) valid_dna2 only\n",
    "\n",
    "'''"
   ]
  },
  {
   "cell_type": "code",
   "execution_count": null,
   "metadata": {},
   "outputs": [],
   "source": [
    "'''What is the type of variable L3 and what is its value if L1 and L2 are lists?\n",
    "\n",
    "L3 = [i for i in set(L1) if i in L2]\n",
    "\n",
    "\n",
    "A) L3 is a set with all the elements in L1 and L2.\n",
    "\n",
    "\n",
    "answer => B) L3 is a list that contains only the elements that are common between the lists (without duplicates).\n",
    "\n",
    "\n",
    "C) L3 is a set with elements common between the lists L2 and L3.\n",
    "\n",
    "\n",
    "D) L3 is a tuple with elements that are both in L1 and L2\n",
    "\n",
    "'''"
   ]
  },
  {
   "cell_type": "code",
   "execution_count": null,
   "metadata": {},
   "outputs": [],
   "source": [
    "'''What will be printed after executing the following code?'''\n",
    "def f(mystring):\n",
    "    print(message)\n",
    "    print(mystring)\n",
    "    message=\"Inside function now!\"\n",
    "    print(message)\n",
    "message=\"Outside function!\"\n",
    "\n",
    "f(\"Test function:\")\n",
    "\n",
    "\n",
    "'''A) Test function:\n",
    "\n",
    "then an error message\n",
    "\n",
    "\n",
    "answer => B) An error message.\n",
    "\n",
    "\n",
    "C) Inside function!\n",
    "\n",
    "\n",
    "D) Outside function!\n",
    "\n",
    "'''"
   ]
  },
  {
   "cell_type": "code",
   "execution_count": null,
   "metadata": {},
   "outputs": [],
   "source": [
    "### ONLY QUESTION I CONSISTANTLY GOT INCORRECT: \n",
    "\n",
    "'''Which statement below is true about a function:\n",
    "\n",
    "\n",
    "must always have a fixed number of arguments\n",
    "\n",
    "\n",
    "incorrect answer => must always have a return statement\n",
    "\n",
    "\n",
    "may have no parameters\n",
    "\n",
    "\n",
    "incorrect! answer => must have at least one parameter\n",
    "\n",
    "\n",
    "incorrect => its arguments always appear in brackets \n",
    "\n",
    "'''"
   ]
  },
  {
   "cell_type": "code",
   "execution_count": null,
   "metadata": {},
   "outputs": [],
   "source": [
    "'''Which of the following function headers is correct?\n",
    "\n",
    "   A. def afunction(a1 = 1, a2):\n",
    "\n",
    "   B. def afunction(a1 = 1, a2, a3 = 3):\n",
    "\n",
    "   C. def afunction(a1 = 1, a2 = 2, a3 = 3):\n",
    "\n",
    "\n",
    "incorrect => None is correct.\n",
    "\n",
    "\n",
    "next answer => A\n",
    "\n",
    "\n",
    "correct => C\n",
    "\n",
    "\n",
    "incorrect! answer => A,B\n",
    "\n",
    "\n",
    "'''"
   ]
  }
 ],
 "metadata": {
  "kernelspec": {
   "display_name": "Python 3",
   "language": "python",
   "name": "python3"
  },
  "language_info": {
   "codemirror_mode": {
    "name": "ipython",
    "version": 3
   },
   "file_extension": ".py",
   "mimetype": "text/x-python",
   "name": "python",
   "nbconvert_exporter": "python",
   "pygments_lexer": "ipython3",
   "version": "3.7.0"
  }
 },
 "nbformat": 4,
 "nbformat_minor": 4
}
