{
 "cells": [
  {
   "cell_type": "code",
   "execution_count": null,
   "metadata": {},
   "outputs": [],
   "source": [
    "#Incorrect Quiz 3 problems\n",
    "\n",
    "'''Suppose splice_site_pairs = ['GT-AG','GC-AG','AT-AC']. \n",
    "What is splice_site_pairs[:-1]?\n",
    "\n",
    "correct => A)['GT-AG']\n",
    "\n",
    "\n",
    "your answer => B)['GT-AG','GC-AG','AT-AC']\n",
    "\n",
    "\n",
    "C)['GT-AG', 'GC-AG']\n",
    "\n",
    "\n",
    "D)[]\n",
    "\n",
    "'''"
   ]
  },
  {
   "cell_type": "code",
   "execution_count": null,
   "metadata": {},
   "outputs": [],
   "source": [
    "'''Suppose t = ('a', 'c', 'g', 't'). What will be the output of the following code:\n",
    "\n",
    ">>> t.append( ('A','C','G','T') )\n",
    "\n",
    ">>> print len(t)\n",
    "\n",
    "\n",
    "A) Error\n",
    "\n",
    "\n",
    "your answer => B) 8\n",
    "\n",
    "\n",
    "C) 1\n",
    "\n",
    "\n",
    "correct => D) 5\n",
    "\n",
    "'''"
   ]
  }
 ],
 "metadata": {
  "kernelspec": {
   "display_name": "Python 3",
   "language": "python",
   "name": "python3"
  },
  "language_info": {
   "codemirror_mode": {
    "name": "ipython",
    "version": 3
   },
   "file_extension": ".py",
   "mimetype": "text/x-python",
   "name": "python",
   "nbconvert_exporter": "python",
   "pygments_lexer": "ipython3",
   "version": "3.7.0"
  }
 },
 "nbformat": 4,
 "nbformat_minor": 4
}
