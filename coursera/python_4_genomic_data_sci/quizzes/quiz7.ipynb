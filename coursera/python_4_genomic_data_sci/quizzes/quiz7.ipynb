{
 "cells": [
  {
   "cell_type": "code",
   "execution_count": 16,
   "metadata": {},
   "outputs": [
    {
     "data": {
      "text/plain": [
       "''"
      ]
     },
     "execution_count": 16,
     "metadata": {},
     "output_type": "execute_result"
    }
   ],
   "source": [
    "#Quiz 7\n",
    "\n",
    "'''Examine the following three functions that take as argument a file name and return the extension of \n",
    "that file. For instance, if the file name is 'myfile.tar.gz' the returned value of the function should \n",
    "be 'gz'. If the file name has no extention, i.e. when the file name is just 'myfile', the function should \n",
    "return an empty string.'''\n",
    "\n",
    "def get_extension1(filename):\n",
    "    return(filename.split(\".\")[-1])\n",
    "\n",
    "def get_extension2(filename):\n",
    "    import os.path\n",
    "    return(os.path.splitext(filename)[1])\n",
    "\n",
    "def get_extension3(filename):\n",
    "    return filename[filename.rfind('.'):][1:]\n",
    "\n",
    "get_extension3('whatever')\n",
    "\n",
    "\n",
    "#just 3"
   ]
  },
  {
   "cell_type": "code",
   "execution_count": null,
   "metadata": {},
   "outputs": [],
   "source": [
    "'''A student is running a Python program like this:\n",
    "    \n",
    ">python mergefasta.py myfile1.fa myfile2.fa\n",
    "\n",
    "In the mergefasta.py program the following lines are present:'''\n",
    "\n",
    "import sys\n",
    "tocheck=sys.argv[1]\n",
    "\n",
    "#not mergefasta.py, myfile1.fa then"
   ]
  },
  {
   "cell_type": "code",
   "execution_count": 13,
   "metadata": {},
   "outputs": [
    {
     "name": "stdout",
     "output_type": "stream",
     "text": [
      "Help on built-in function listdir in module posix:\n",
      "\n",
      "listdir(path=None)\n",
      "    Return a list containing the names of the files in the directory.\n",
      "    \n",
      "    path can be specified as either str or bytes.  If path is bytes,\n",
      "      the filenames returned will also be bytes; in all other circumstances\n",
      "      the filenames returned will be str.\n",
      "    If path is None, uses the path='.'.\n",
      "    On some platforms, path may also be specified as an open file descriptor;\\\n",
      "      the file descriptor must refer to a directory.\n",
      "      If this functionality is unavailable, using it raises NotImplementedError.\n",
      "    \n",
      "    The list is in arbitrary order.  It does not include the special\n",
      "    entries '.' and '..' even if they are present in the directory.\n",
      "\n"
     ]
    }
   ],
   "source": [
    "import os\n",
    "help(os.listdir)"
   ]
  }
 ],
 "metadata": {
  "kernelspec": {
   "display_name": "Python 3",
   "language": "python",
   "name": "python3"
  },
  "language_info": {
   "codemirror_mode": {
    "name": "ipython",
    "version": 3
   },
   "file_extension": ".py",
   "mimetype": "text/x-python",
   "name": "python",
   "nbconvert_exporter": "python",
   "pygments_lexer": "ipython3",
   "version": "3.7.0"
  }
 },
 "nbformat": 4,
 "nbformat_minor": 4
}
