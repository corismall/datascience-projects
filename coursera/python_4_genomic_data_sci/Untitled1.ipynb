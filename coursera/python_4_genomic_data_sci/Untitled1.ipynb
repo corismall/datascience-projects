{
 "cells": [
  {
   "cell_type": "code",
   "execution_count": null,
   "metadata": {},
   "outputs": [],
   "source": [
    "from Bio import SeqIO\n",
    "from Bio.Seq import Seq\n",
    "from Bio.Alphabet import generic_dna"
   ]
  },
  {
   "cell_type": "code",
   "execution_count": null,
   "metadata": {},
   "outputs": [],
   "source": [
    "def dict_seqs(seqs):\n",
    "    '''\n",
    "    Indexing fasta sequences into seqrecords and writing id and sequence into a dictionary\n",
    "    '''\n",
    "    seq_dict = {}\n",
    "    for key, SeqRecord in seqs.items():\n",
    "        seq_dict[key] = str(SeqRecord.seq)\n",
    "    return seq_dict"
   ]
  },
  {
   "cell_type": "code",
   "execution_count": null,
   "metadata": {},
   "outputs": [],
   "source": [
    "def sort_seqlens(seq_dict):\n",
    "    '''\n",
    "    Creates sorted list of tuples of seq id and sequence lengths from dictionary\n",
    "    '''    \n",
    "    seqlen_tuple = sorted((len(v),k) for (k,v) in seq_dict.items()) #list comprehension of tuple (k = id,v = length)\n",
    "    return seqlen_tuple"
   ]
  },
  {
   "cell_type": "code",
   "execution_count": null,
   "metadata": {},
   "outputs": [],
   "source": [
    "def len_minmax(seqs_tuple):\n",
    "    '''\n",
    "    Returns max and min lengths of list of tuples\n",
    "    '''\n",
    "    longest = seqs_tuple[-1][0]\n",
    "    shortest = seqs_tuple[0][0]\n",
    "    return ('Shortest: ', shortest, 'Longest: ', longest)"
   ]
  },
  {
   "cell_type": "code",
   "execution_count": null,
   "metadata": {},
   "outputs": [],
   "source": [
    "def seq_dups(seq_tuples):\n",
    "    '''\n",
    "    Prints sequences with the same lengths from a list of tuples with id and sequence lengths\n",
    "    '''\n",
    "    #print(seq_tuples)\n",
    "    len_dup = []\n",
    "    for i in seq_tuples:  #checks for duplication of lengths i[0]\n",
    "        if i[0] not in len_dup:\n",
    "            len = i[0]\n",
    "            len_dup.append(len)\n",
    "        else:\n",
    "            print('Same length, Id:', i[1], 'length:', i[0])\n",
    "            continue\n",
    "        #print(len_dup)"
   ]
  },
  {
   "cell_type": "code",
   "execution_count": null,
   "metadata": {},
   "outputs": [],
   "source": [
    "def repeats(seqs_dict,n):\n",
    "    for key,seq in seqs_dict.items():\n",
    "        #print(seqs_dict[key])\n",
    "        substrings = []\n",
    "        repeat_dict = {}\n",
    "        seq_list_by_n =[]\n",
    "        \n",
    "        for i in range(0,len(seq),n):  #default frame 1\n",
    "            subseq = seq[i:i+n].upper()\n",
    "            #print(subseq)\n",
    "            if subseq not in substrings:\n",
    "                substrings.append(subseq)\n",
    "            #print(substrings)\n",
    "            for s in substrings:\n",
    "                repeat_dict[s] = 0\n",
    "            #print(repeat_dict)\n",
    "        \n",
    "        for i in range(0,len(seq),n):  #default frame 1\n",
    "            subseq = seq[i:i+n].upper()\n",
    "            seq_list_by_n.append(subseq)\n",
    "        \n",
    "        #print(seq_list_by_n)\n",
    "        for s in seq_list_by_n:\n",
    "            repeat_dict[s] += 1\n",
    "        return repeat_dict  "
   ]
  },
  {
   "cell_type": "code",
   "execution_count": 6,
   "metadata": {},
   "outputs": [],
   "source": [
    "def rev(seq):\n",
    "    '''\n",
    "    Reverses sequence\n",
    "    '''\n",
    "    seq_rev = seq[::-1]\n",
    "    return seq_rev\n",
    "\n",
    "def complement(seq):  \n",
    "    '''\n",
    "    Uses dictionary for complementation partners simplified (only lowercase)\n",
    "    '''\n",
    "    seq = seq.upper()\n",
    "    base_comp = {'A':'T','T':'A','C':'G','G':'C','N':'N'}\n",
    "    complement_seq = ''\n",
    "    for n in seq:\n",
    "        for key,value in base_comp.items():\n",
    "            if n == key:\n",
    "                complement_seq += value\n",
    "    return complement_seq\n",
    "\n",
    "def rev_complement(seq):\n",
    "    seq = rev(seq)\n",
    "    seq = complement(seq)\n",
    "    return seq"
   ]
  },
  {
   "cell_type": "code",
   "execution_count": 3,
   "metadata": {},
   "outputs": [],
   "source": [
    "def frame_dict(seq_dict):\n",
    "    '''\n",
    "    Returns a dictionary of each frame (all 6) of sequences in order: 1_F, 1_R, etc\n",
    "    '''\n",
    "    frames_dict = {}\n",
    "    for key,seq in seq_dict.items():\n",
    "        #print(key)\n",
    "        revcomp_seq = rev_complement(seq_dict[key])\n",
    "        #print(revcomp_seq)\n",
    "        frames = []\n",
    "        for j in range(0, 3):\n",
    "            frame_f = []\n",
    "            frame_r = []\n",
    "            for n in range(j,len(seq_dict[key]),3):\n",
    "                codon = seq_dict[key][n:n+3]\n",
    "                frame_f.append(codon)\n",
    "            frames.append(frame_f)\n",
    "            for n in range(j,len(revcomp_seq),3):\n",
    "                codon = revcomp_seq[n:n+3]\n",
    "                #print(codon)\n",
    "                frame_r.append(codon)\n",
    "            frames.append(frame_r)\n",
    "        frames_dict[key] = frames\n",
    "        continue              \n",
    "    return frames_dict"
   ]
  },
  {
   "cell_type": "code",
   "execution_count": 8,
   "metadata": {},
   "outputs": [],
   "source": [
    "def find_start(l):\n",
    "    '''\n",
    "    Function returns index if a codon is id'd as start position in a list and returns a list of start indeces\n",
    "    '''\n",
    "    start = 'ATG'\n",
    "    start_list = []\n",
    "    for index,i in enumerate(l):  #order matters, index comes first then value of each item in list\n",
    "        if i == start:  #if codon is start codon\n",
    "            start_pos = index  #get starting index \n",
    "            start_list.append(start_pos)\n",
    "        else:\n",
    "            continue\n",
    "    return start_list\n",
    "    \n",
    "def find_stop(l):\n",
    "    '''\n",
    "    Function finds each stop position in a list of string seq and returns a list of stop indeces\n",
    "    '''\n",
    "    stop = ['TAG', 'TGA', 'TAA']\n",
    "    stop_list = []\n",
    "    for index,i in enumerate(l):\n",
    "        for codon in stop:\n",
    "            if i == codon:  #for each stop codon in list\n",
    "                stop_pos = index + 1  #get stop index (+1 to include the stop codon)\n",
    "                #print('stop found', i)\n",
    "                stop_list.append(stop_pos)\n",
    "                #print(stop_list)\n",
    "            else:\n",
    "                continue\n",
    "    return stop_list\n",
    "            "
   ]
  },
  {
   "cell_type": "code",
   "execution_count": 108,
   "metadata": {},
   "outputs": [],
   "source": [
    "def orfs(frames_dict):\n",
    "    '''\n",
    "    This function finds ORFs in each frame and adds them to a dictionary by frame then nests this dictionary by sequence\n",
    "    '''\n",
    "    seqs = {}  #create dictionary to hold orfs of all frames per sequence\n",
    "    for key, value in frames_dict.items():\n",
    "        #print(key,value)\n",
    "        frames = value  #assigns all frames for a sequence to variable frames\n",
    "        orf_dict = {}\n",
    "        for index,frame in enumerate(frames):  #for each of the 6 frames, create frame label\n",
    "            \n",
    "            if index == 0:\n",
    "                f = '1_F'\n",
    "            if index == 1:\n",
    "                f = '1_R'\n",
    "            if index == 2:\n",
    "                f = '2_F'\n",
    "            if index == 3:\n",
    "                f = '2_R'\n",
    "            if index == 4:\n",
    "                f = '3_F'\n",
    "            if index == 5:\n",
    "                f = '3_R'\n",
    "              \n",
    "            start = find_start(frame)\n",
    "            stop = find_stop(frame)\n",
    "            #print(f,'start',start,'stop',stop)\n",
    "            orf_dict[f] = []\n",
    "            orfs = []\n",
    "            for i in start:\n",
    "                i = int(i)\n",
    "                for j in stop:\n",
    "                    j = int(j)\n",
    "                    seq = frame[i:j]\n",
    "                    #print(seq)\n",
    "                    orfs.append(''.join(seq))\n",
    "            \n",
    "            #print(orfs)\n",
    "            orf_dict[f] = orfs\n",
    "            #print(orf_dict)\n",
    "        \n",
    "        seqs[key] = orf_dict\n",
    "        #print(seqs)\n",
    "    return seqs"
   ]
  },
  {
   "cell_type": "code",
   "execution_count": null,
   "metadata": {},
   "outputs": [],
   "source": [
    "def longest_orf(orf_dict):\n",
    "    '''\n",
    "    prints the longest orf of each sequence\n",
    "    '''\n",
    "    lens = []\n",
    "    for key,value in orf_dict.items():\n",
    "        for orf in value:\n",
    "            lens.append(len(orf))\n",
    "            sorted_lens = sorted(lens)\n",
    "            #print(sorted_lens)\n",
    "        longest_orf = sorted_lens[-1]\n",
    "        return 'Longest orf for', key, 'is', longest_orf\n"
   ]
  },
  {
   "cell_type": "code",
   "execution_count": 94,
   "metadata": {},
   "outputs": [],
   "source": [
    "#ex_dict = {'a':'ATGCGGATGGCGAAGGCGGCCCCATAAAGTCGTCCGTAA', 'b':'ATGCATGCATAAAGTCCAAAGTCCAAAAGTCCAAAGTCCATAAAGTCCAAAGTCCATAAAGT'}"
   ]
  },
  {
   "cell_type": "code",
   "execution_count": 110,
   "metadata": {},
   "outputs": [
    {
     "name": "stdout",
     "output_type": "stream",
     "text": [
      "{'a': {'1_F': ['ATGCGGATGGCGAAGGCGGCCCCATAA', 'ATGCGGATGGCGAAGGCGGCCCCATAAAGTCGTCCGTAA', 'ATGGCGAAGGCGGCCCCATAA', 'ATGGCGAAGGCGGCCCCATAAAGTCGTCCGTAA'], '1_R': [], '2_F': [], '2_R': [], '3_F': [], '3_R': []}, 'b': {'1_F': ['ATGCATGCATAA'], '1_R': [], '2_F': ['ATGCATAAAGTCCAAAGTCCAAAAGTCCAAAGTCCATAA'], '2_R': [], '3_F': [], '3_R': []}}\n"
     ]
    }
   ],
   "source": [
    "#fd = frame_dict(ex_dict)\n",
    "#o = orfs(fd)\n",
    "\n",
    "#print(o)"
   ]
  }
 ],
 "metadata": {
  "kernelspec": {
   "display_name": "Python 3",
   "language": "python",
   "name": "python3"
  },
  "language_info": {
   "codemirror_mode": {
    "name": "ipython",
    "version": 3
   },
   "file_extension": ".py",
   "mimetype": "text/x-python",
   "name": "python",
   "nbconvert_exporter": "python",
   "pygments_lexer": "ipython3",
   "version": "3.7.0"
  }
 },
 "nbformat": 4,
 "nbformat_minor": 4
}
